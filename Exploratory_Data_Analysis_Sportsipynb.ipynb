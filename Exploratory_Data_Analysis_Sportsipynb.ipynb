{
  "nbformat": 4,
  "nbformat_minor": 0,
  "metadata": {
    "colab": {
      "name": "Exploratory Data Analysis -Sportsipynb",
      "provenance": [],
      "collapsed_sections": [],
      "authorship_tag": "ABX9TyMstvX0UX2Z7kEuD9I/NUJS",
      "include_colab_link": true
    },
    "kernelspec": {
      "name": "python3",
      "display_name": "Python 3"
    },
    "language_info": {
      "name": "python"
    }
  },
  "cells": [
    {
      "cell_type": "markdown",
      "metadata": {
        "id": "view-in-github",
        "colab_type": "text"
      },
      "source": [
        "<a href=\"https://colab.research.google.com/github/sufipathan/data_science/blob/main/Exploratory_Data_Analysis_Sportsipynb.ipynb\" target=\"_parent\"><img src=\"https://colab.research.google.com/assets/colab-badge.svg\" alt=\"Open In Colab\"/></a>"
      ]
    },
    {
      "cell_type": "markdown",
      "metadata": {
        "id": "zwblziQsneK1"
      },
      "source": [
        "**Author :Sufi Pathan**"
      ]
    },
    {
      "cell_type": "markdown",
      "metadata": {
        "id": "Od3hV24enkJF"
      },
      "source": [
        "**Task 5: Exploratory Data Analysis on dataset 'Sports(Indian Premiere League)**"
      ]
    },
    {
      "cell_type": "code",
      "metadata": {
        "id": "urV6ZXsQqklf"
      },
      "source": [
        "import numpy as np #Numerical computing\n",
        "import pandas as pd #data processing,CSV filese.g(pd.read_csv)\n",
        "import matplotlib.pyplot as plt #Visualisation\n",
        "import seaborn as sns #Modern Visualisation\n"
      ],
      "execution_count": 1,
      "outputs": []
    },
    {
      "cell_type": "code",
      "metadata": {
        "colab": {
          "base_uri": "https://localhost:8080/"
        },
        "id": "JSlypsQ5rgWw",
        "outputId": "46e756d7-8c50-48dd-a74d-d6abdcf324bf"
      },
      "source": [
        "45\\t\n",
        "fetfrom google.colab import drive\n",
        "drive.mount(\"/content/gdrive\",force_remount=True)\n",
        "## load from google drive\n",
        "file_path = 'gdrive/My Drive/Colab Notebooks/matches.csv'"
      ],
      "execution_count": null,
      "outputs": [
        {
          "output_type": "stream",
          "text": [
            "Mounted at /content/gdrive\n"
          ],
          "name": "stdout"
        }
      ]
    },
    {
      "cell_type": "code",
      "metadata": {
        "id": "beGz0__2rU4g"
      },
      "source": [
        "#Load csv files\n",
        "df = pd.read_csv('/content/gdrive/My Drive/Colab Notebooks/matches.csv')\n"
      ],
      "execution_count": null,
      "outputs": []
    },
    {
      "cell_type": "code",
      "metadata": {
        "colab": {
          "base_uri": "https://localhost:8080/",
          "height": 445
        },
        "id": "O1by1WUZsAjG",
        "outputId": "7ba2e692-2342-436c-af2b-626199d0bc79"
      },
      "source": [
        "#First five rows\n",
        "df.head()"
      ],
      "execution_count": null,
      "outputs": [
        {
          "output_type": "execute_result",
          "data": {
            "text/html": [
              "<div>\n",
              "<style scoped>\n",
              "    .dataframe tbody tr th:only-of-type {\n",
              "        vertical-align: middle;\n",
              "    }\n",
              "\n",
              "    .dataframe tbody tr th {\n",
              "        vertical-align: top;\n",
              "    }\n",
              "\n",
              "    .dataframe thead th {\n",
              "        text-align: right;\n",
              "    }\n",
              "</style>\n",
              "<table border=\"1\" class=\"dataframe\">\n",
              "  <thead>\n",
              "    <tr style=\"text-align: right;\">\n",
              "      <th></th>\n",
              "      <th>id</th>\n",
              "      <th>season</th>\n",
              "      <th>city</th>\n",
              "      <th>date</th>\n",
              "      <th>team1</th>\n",
              "      <th>team2</th>\n",
              "      <th>toss_winner</th>\n",
              "      <th>toss_decision</th>\n",
              "      <th>result</th>\n",
              "      <th>dl_applied</th>\n",
              "      <th>winner</th>\n",
              "      <th>win_by_runs</th>\n",
              "      <th>win_by_wickets</th>\n",
              "      <th>player_of_match</th>\n",
              "      <th>venue</th>\n",
              "      <th>umpire1</th>\n",
              "      <th>umpire2</th>\n",
              "      <th>umpire3</th>\n",
              "    </tr>\n",
              "  </thead>\n",
              "  <tbody>\n",
              "    <tr>\n",
              "      <th>0</th>\n",
              "      <td>1</td>\n",
              "      <td>2017</td>\n",
              "      <td>Hyderabad</td>\n",
              "      <td>05/04/2017</td>\n",
              "      <td>Sunrisers Hyderabad</td>\n",
              "      <td>Royal Challengers Bangalore</td>\n",
              "      <td>Royal Challengers Bangalore</td>\n",
              "      <td>field</td>\n",
              "      <td>normal</td>\n",
              "      <td>0</td>\n",
              "      <td>Sunrisers Hyderabad</td>\n",
              "      <td>35</td>\n",
              "      <td>0</td>\n",
              "      <td>Yuvraj Singh</td>\n",
              "      <td>Rajiv Gandhi International Stadium, Uppal</td>\n",
              "      <td>AY Dandekar</td>\n",
              "      <td>NJ Llong</td>\n",
              "      <td>NaN</td>\n",
              "    </tr>\n",
              "    <tr>\n",
              "      <th>1</th>\n",
              "      <td>2</td>\n",
              "      <td>2017</td>\n",
              "      <td>Pune</td>\n",
              "      <td>06/04/2017</td>\n",
              "      <td>Mumbai Indians</td>\n",
              "      <td>Rising Pune Supergiant</td>\n",
              "      <td>Rising Pune Supergiant</td>\n",
              "      <td>field</td>\n",
              "      <td>normal</td>\n",
              "      <td>0</td>\n",
              "      <td>Rising Pune Supergiant</td>\n",
              "      <td>0</td>\n",
              "      <td>7</td>\n",
              "      <td>SPD Smith</td>\n",
              "      <td>Maharashtra Cricket Association Stadium</td>\n",
              "      <td>A Nand Kishore</td>\n",
              "      <td>S Ravi</td>\n",
              "      <td>NaN</td>\n",
              "    </tr>\n",
              "    <tr>\n",
              "      <th>2</th>\n",
              "      <td>3</td>\n",
              "      <td>2017</td>\n",
              "      <td>Rajkot</td>\n",
              "      <td>07/04/2017</td>\n",
              "      <td>Gujarat Lions</td>\n",
              "      <td>Kolkata Knight Riders</td>\n",
              "      <td>Kolkata Knight Riders</td>\n",
              "      <td>field</td>\n",
              "      <td>normal</td>\n",
              "      <td>0</td>\n",
              "      <td>Kolkata Knight Riders</td>\n",
              "      <td>0</td>\n",
              "      <td>10</td>\n",
              "      <td>CA Lynn</td>\n",
              "      <td>Saurashtra Cricket Association Stadium</td>\n",
              "      <td>Nitin Menon</td>\n",
              "      <td>CK Nandan</td>\n",
              "      <td>NaN</td>\n",
              "    </tr>\n",
              "    <tr>\n",
              "      <th>3</th>\n",
              "      <td>4</td>\n",
              "      <td>2017</td>\n",
              "      <td>Indore</td>\n",
              "      <td>08/04/2017</td>\n",
              "      <td>Rising Pune Supergiant</td>\n",
              "      <td>Kings XI Punjab</td>\n",
              "      <td>Kings XI Punjab</td>\n",
              "      <td>field</td>\n",
              "      <td>normal</td>\n",
              "      <td>0</td>\n",
              "      <td>Kings XI Punjab</td>\n",
              "      <td>0</td>\n",
              "      <td>6</td>\n",
              "      <td>GJ Maxwell</td>\n",
              "      <td>Holkar Cricket Stadium</td>\n",
              "      <td>AK Chaudhary</td>\n",
              "      <td>C Shamshuddin</td>\n",
              "      <td>NaN</td>\n",
              "    </tr>\n",
              "    <tr>\n",
              "      <th>4</th>\n",
              "      <td>5</td>\n",
              "      <td>2017</td>\n",
              "      <td>Bangalore</td>\n",
              "      <td>08/04/2017</td>\n",
              "      <td>Royal Challengers Bangalore</td>\n",
              "      <td>Delhi Daredevils</td>\n",
              "      <td>Royal Challengers Bangalore</td>\n",
              "      <td>bat</td>\n",
              "      <td>normal</td>\n",
              "      <td>0</td>\n",
              "      <td>Royal Challengers Bangalore</td>\n",
              "      <td>15</td>\n",
              "      <td>0</td>\n",
              "      <td>KM Jadhav</td>\n",
              "      <td>M Chinnaswamy Stadium</td>\n",
              "      <td>NaN</td>\n",
              "      <td>NaN</td>\n",
              "      <td>NaN</td>\n",
              "    </tr>\n",
              "  </tbody>\n",
              "</table>\n",
              "</div>"
            ],
            "text/plain": [
              "   id  season       city  ...         umpire1        umpire2 umpire3\n",
              "0   1    2017  Hyderabad  ...     AY Dandekar       NJ Llong     NaN\n",
              "1   2    2017       Pune  ...  A Nand Kishore         S Ravi     NaN\n",
              "2   3    2017     Rajkot  ...     Nitin Menon      CK Nandan     NaN\n",
              "3   4    2017     Indore  ...    AK Chaudhary  C Shamshuddin     NaN\n",
              "4   5    2017  Bangalore  ...             NaN            NaN     NaN\n",
              "\n",
              "[5 rows x 18 columns]"
            ]
          },
          "metadata": {
            "tags": []
          },
          "execution_count": 35
        }
      ]
    },
    {
      "cell_type": "code",
      "metadata": {
        "colab": {
          "base_uri": "https://localhost:8080/",
          "height": 377
        },
        "id": "iw0jHAI-sNja",
        "outputId": "75173ceb-032b-4232-ff1d-200a0080c45c"
      },
      "source": [
        "#last five rows\n",
        "df.tail()"
      ],
      "execution_count": null,
      "outputs": [
        {
          "output_type": "execute_result",
          "data": {
            "text/html": [
              "<div>\n",
              "<style scoped>\n",
              "    .dataframe tbody tr th:only-of-type {\n",
              "        vertical-align: middle;\n",
              "    }\n",
              "\n",
              "    .dataframe tbody tr th {\n",
              "        vertical-align: top;\n",
              "    }\n",
              "\n",
              "    .dataframe thead th {\n",
              "        text-align: right;\n",
              "    }\n",
              "</style>\n",
              "<table border=\"1\" class=\"dataframe\">\n",
              "  <thead>\n",
              "    <tr style=\"text-align: right;\">\n",
              "      <th></th>\n",
              "      <th>id</th>\n",
              "      <th>season</th>\n",
              "      <th>city</th>\n",
              "      <th>date</th>\n",
              "      <th>team1</th>\n",
              "      <th>team2</th>\n",
              "      <th>toss_winner</th>\n",
              "      <th>toss_decision</th>\n",
              "      <th>result</th>\n",
              "      <th>dl_applied</th>\n",
              "      <th>winner</th>\n",
              "      <th>win_by_runs</th>\n",
              "      <th>win_by_wickets</th>\n",
              "      <th>player_of_match</th>\n",
              "      <th>venue</th>\n",
              "      <th>umpire1</th>\n",
              "      <th>umpire2</th>\n",
              "      <th>umpire3</th>\n",
              "    </tr>\n",
              "  </thead>\n",
              "  <tbody>\n",
              "    <tr>\n",
              "      <th>751</th>\n",
              "      <td>11347</td>\n",
              "      <td>2019</td>\n",
              "      <td>Mumbai</td>\n",
              "      <td>05/05/2019</td>\n",
              "      <td>Kolkata Knight Riders</td>\n",
              "      <td>Mumbai Indians</td>\n",
              "      <td>Mumbai Indians</td>\n",
              "      <td>field</td>\n",
              "      <td>normal</td>\n",
              "      <td>0</td>\n",
              "      <td>Mumbai Indians</td>\n",
              "      <td>0</td>\n",
              "      <td>9</td>\n",
              "      <td>HH Pandya</td>\n",
              "      <td>Wankhede Stadium</td>\n",
              "      <td>Nanda Kishore</td>\n",
              "      <td>O Nandan</td>\n",
              "      <td>S Ravi</td>\n",
              "    </tr>\n",
              "    <tr>\n",
              "      <th>752</th>\n",
              "      <td>11412</td>\n",
              "      <td>2019</td>\n",
              "      <td>Chennai</td>\n",
              "      <td>07/05/2019</td>\n",
              "      <td>Chennai Super Kings</td>\n",
              "      <td>Mumbai Indians</td>\n",
              "      <td>Chennai Super Kings</td>\n",
              "      <td>bat</td>\n",
              "      <td>normal</td>\n",
              "      <td>0</td>\n",
              "      <td>Mumbai Indians</td>\n",
              "      <td>0</td>\n",
              "      <td>6</td>\n",
              "      <td>AS Yadav</td>\n",
              "      <td>M. A. Chidambaram Stadium</td>\n",
              "      <td>Nigel Llong</td>\n",
              "      <td>Nitin Menon</td>\n",
              "      <td>Ian Gould</td>\n",
              "    </tr>\n",
              "    <tr>\n",
              "      <th>753</th>\n",
              "      <td>11413</td>\n",
              "      <td>2019</td>\n",
              "      <td>Visakhapatnam</td>\n",
              "      <td>08/05/2019</td>\n",
              "      <td>Sunrisers Hyderabad</td>\n",
              "      <td>Delhi Capitals</td>\n",
              "      <td>Delhi Capitals</td>\n",
              "      <td>field</td>\n",
              "      <td>normal</td>\n",
              "      <td>0</td>\n",
              "      <td>Delhi Capitals</td>\n",
              "      <td>0</td>\n",
              "      <td>2</td>\n",
              "      <td>RR Pant</td>\n",
              "      <td>ACA-VDCA Stadium</td>\n",
              "      <td>NaN</td>\n",
              "      <td>NaN</td>\n",
              "      <td>NaN</td>\n",
              "    </tr>\n",
              "    <tr>\n",
              "      <th>754</th>\n",
              "      <td>11414</td>\n",
              "      <td>2019</td>\n",
              "      <td>Visakhapatnam</td>\n",
              "      <td>10/05/2019</td>\n",
              "      <td>Delhi Capitals</td>\n",
              "      <td>Chennai Super Kings</td>\n",
              "      <td>Chennai Super Kings</td>\n",
              "      <td>field</td>\n",
              "      <td>normal</td>\n",
              "      <td>0</td>\n",
              "      <td>Chennai Super Kings</td>\n",
              "      <td>0</td>\n",
              "      <td>6</td>\n",
              "      <td>F du Plessis</td>\n",
              "      <td>ACA-VDCA Stadium</td>\n",
              "      <td>Sundaram Ravi</td>\n",
              "      <td>Bruce Oxenford</td>\n",
              "      <td>Chettithody Shamshuddin</td>\n",
              "    </tr>\n",
              "    <tr>\n",
              "      <th>755</th>\n",
              "      <td>11415</td>\n",
              "      <td>2019</td>\n",
              "      <td>Hyderabad</td>\n",
              "      <td>12/05/2019</td>\n",
              "      <td>Mumbai Indians</td>\n",
              "      <td>Chennai Super Kings</td>\n",
              "      <td>Mumbai Indians</td>\n",
              "      <td>bat</td>\n",
              "      <td>normal</td>\n",
              "      <td>0</td>\n",
              "      <td>Mumbai Indians</td>\n",
              "      <td>1</td>\n",
              "      <td>0</td>\n",
              "      <td>JJ Bumrah</td>\n",
              "      <td>Rajiv Gandhi Intl. Cricket Stadium</td>\n",
              "      <td>Nitin Menon</td>\n",
              "      <td>Ian Gould</td>\n",
              "      <td>Nigel Llong</td>\n",
              "    </tr>\n",
              "  </tbody>\n",
              "</table>\n",
              "</div>"
            ],
            "text/plain": [
              "        id  season  ...         umpire2                  umpire3\n",
              "751  11347    2019  ...        O Nandan                   S Ravi\n",
              "752  11412    2019  ...     Nitin Menon                Ian Gould\n",
              "753  11413    2019  ...             NaN                      NaN\n",
              "754  11414    2019  ...  Bruce Oxenford  Chettithody Shamshuddin\n",
              "755  11415    2019  ...       Ian Gould              Nigel Llong\n",
              "\n",
              "[5 rows x 18 columns]"
            ]
          },
          "metadata": {
            "tags": []
          },
          "execution_count": 36
        }
      ]
    },
    {
      "cell_type": "code",
      "metadata": {
        "colab": {
          "base_uri": "https://localhost:8080/"
        },
        "id": "7hKMqgG6sVds",
        "outputId": "ae6432b1-6c68-4bab-a01a-a49e4135938a"
      },
      "source": [
        "df.shape"
      ],
      "execution_count": null,
      "outputs": [
        {
          "output_type": "execute_result",
          "data": {
            "text/plain": [
              "(756, 18)"
            ]
          },
          "metadata": {
            "tags": []
          },
          "execution_count": 37
        }
      ]
    },
    {
      "cell_type": "code",
      "metadata": {
        "colab": {
          "base_uri": "https://localhost:8080/"
        },
        "id": "q_hQve5yshwP",
        "outputId": "9fe561d4-bd52-48d6-8377-9633b8eac33a"
      },
      "source": [
        "#Loading 2nd dataset\n",
        "from google.colab import drive\n",
        "drive.mount(\"/content/gdrive\",force_remount=True)\n",
        "## load from google drive\n",
        "file_path = 'gdrive/My Drive/Colab Notebooks/deliveries.csv'"
      ],
      "execution_count": null,
      "outputs": [
        {
          "output_type": "stream",
          "text": [
            "Mounted at /content/gdrive\n"
          ],
          "name": "stdout"
        }
      ]
    },
    {
      "cell_type": "code",
      "metadata": {
        "id": "zn-H97vCsu-f"
      },
      "source": [
        "df1 =pd.read_csv('gdrive/My Drive/Colab Notebooks/deliveries.csv')"
      ],
      "execution_count": null,
      "outputs": []
    },
    {
      "cell_type": "code",
      "metadata": {
        "colab": {
          "base_uri": "https://localhost:8080/",
          "height": 394
        },
        "id": "EKCbVCNMs1d4",
        "outputId": "8aacf484-b7c3-49f5-8354-bfcf603d0be5"
      },
      "source": [
        "df1.head()"
      ],
      "execution_count": null,
      "outputs": [
        {
          "output_type": "execute_result",
          "data": {
            "text/html": [
              "<div>\n",
              "<style scoped>\n",
              "    .dataframe tbody tr th:only-of-type {\n",
              "        vertical-align: middle;\n",
              "    }\n",
              "\n",
              "    .dataframe tbody tr th {\n",
              "        vertical-align: top;\n",
              "    }\n",
              "\n",
              "    .dataframe thead th {\n",
              "        text-align: right;\n",
              "    }\n",
              "</style>\n",
              "<table border=\"1\" class=\"dataframe\">\n",
              "  <thead>\n",
              "    <tr style=\"text-align: right;\">\n",
              "      <th></th>\n",
              "      <th>match_id</th>\n",
              "      <th>inning</th>\n",
              "      <th>batting_team</th>\n",
              "      <th>bowling_team</th>\n",
              "      <th>over</th>\n",
              "      <th>ball</th>\n",
              "      <th>batsman</th>\n",
              "      <th>non_striker</th>\n",
              "      <th>bowler</th>\n",
              "      <th>is_super_over</th>\n",
              "      <th>wide_runs</th>\n",
              "      <th>bye_runs</th>\n",
              "      <th>legbye_runs</th>\n",
              "      <th>noball_runs</th>\n",
              "      <th>penalty_runs</th>\n",
              "      <th>batsman_runs</th>\n",
              "      <th>extra_runs</th>\n",
              "      <th>total_runs</th>\n",
              "      <th>player_dismissed</th>\n",
              "      <th>dismissal_kind</th>\n",
              "      <th>fielder</th>\n",
              "    </tr>\n",
              "  </thead>\n",
              "  <tbody>\n",
              "    <tr>\n",
              "      <th>0</th>\n",
              "      <td>1</td>\n",
              "      <td>1</td>\n",
              "      <td>Sunrisers Hyderabad</td>\n",
              "      <td>Royal Challengers Bangalore</td>\n",
              "      <td>1</td>\n",
              "      <td>1</td>\n",
              "      <td>DA Warner</td>\n",
              "      <td>S Dhawan</td>\n",
              "      <td>TS Mills</td>\n",
              "      <td>0</td>\n",
              "      <td>0</td>\n",
              "      <td>0</td>\n",
              "      <td>0</td>\n",
              "      <td>0</td>\n",
              "      <td>0</td>\n",
              "      <td>0</td>\n",
              "      <td>0</td>\n",
              "      <td>0</td>\n",
              "      <td>NaN</td>\n",
              "      <td>NaN</td>\n",
              "      <td>NaN</td>\n",
              "    </tr>\n",
              "    <tr>\n",
              "      <th>1</th>\n",
              "      <td>1</td>\n",
              "      <td>1</td>\n",
              "      <td>Sunrisers Hyderabad</td>\n",
              "      <td>Royal Challengers Bangalore</td>\n",
              "      <td>1</td>\n",
              "      <td>2</td>\n",
              "      <td>DA Warner</td>\n",
              "      <td>S Dhawan</td>\n",
              "      <td>TS Mills</td>\n",
              "      <td>0</td>\n",
              "      <td>0</td>\n",
              "      <td>0</td>\n",
              "      <td>0</td>\n",
              "      <td>0</td>\n",
              "      <td>0</td>\n",
              "      <td>0</td>\n",
              "      <td>0</td>\n",
              "      <td>0</td>\n",
              "      <td>NaN</td>\n",
              "      <td>NaN</td>\n",
              "      <td>NaN</td>\n",
              "    </tr>\n",
              "    <tr>\n",
              "      <th>2</th>\n",
              "      <td>1</td>\n",
              "      <td>1</td>\n",
              "      <td>Sunrisers Hyderabad</td>\n",
              "      <td>Royal Challengers Bangalore</td>\n",
              "      <td>1</td>\n",
              "      <td>3</td>\n",
              "      <td>DA Warner</td>\n",
              "      <td>S Dhawan</td>\n",
              "      <td>TS Mills</td>\n",
              "      <td>0</td>\n",
              "      <td>0</td>\n",
              "      <td>0</td>\n",
              "      <td>0</td>\n",
              "      <td>0</td>\n",
              "      <td>0</td>\n",
              "      <td>4</td>\n",
              "      <td>0</td>\n",
              "      <td>4</td>\n",
              "      <td>NaN</td>\n",
              "      <td>NaN</td>\n",
              "      <td>NaN</td>\n",
              "    </tr>\n",
              "    <tr>\n",
              "      <th>3</th>\n",
              "      <td>1</td>\n",
              "      <td>1</td>\n",
              "      <td>Sunrisers Hyderabad</td>\n",
              "      <td>Royal Challengers Bangalore</td>\n",
              "      <td>1</td>\n",
              "      <td>4</td>\n",
              "      <td>DA Warner</td>\n",
              "      <td>S Dhawan</td>\n",
              "      <td>TS Mills</td>\n",
              "      <td>0</td>\n",
              "      <td>0</td>\n",
              "      <td>0</td>\n",
              "      <td>0</td>\n",
              "      <td>0</td>\n",
              "      <td>0</td>\n",
              "      <td>0</td>\n",
              "      <td>0</td>\n",
              "      <td>0</td>\n",
              "      <td>NaN</td>\n",
              "      <td>NaN</td>\n",
              "      <td>NaN</td>\n",
              "    </tr>\n",
              "    <tr>\n",
              "      <th>4</th>\n",
              "      <td>1</td>\n",
              "      <td>1</td>\n",
              "      <td>Sunrisers Hyderabad</td>\n",
              "      <td>Royal Challengers Bangalore</td>\n",
              "      <td>1</td>\n",
              "      <td>5</td>\n",
              "      <td>DA Warner</td>\n",
              "      <td>S Dhawan</td>\n",
              "      <td>TS Mills</td>\n",
              "      <td>0</td>\n",
              "      <td>2</td>\n",
              "      <td>0</td>\n",
              "      <td>0</td>\n",
              "      <td>0</td>\n",
              "      <td>0</td>\n",
              "      <td>0</td>\n",
              "      <td>2</td>\n",
              "      <td>2</td>\n",
              "      <td>NaN</td>\n",
              "      <td>NaN</td>\n",
              "      <td>NaN</td>\n",
              "    </tr>\n",
              "  </tbody>\n",
              "</table>\n",
              "</div>"
            ],
            "text/plain": [
              "   match_id  inning  ... dismissal_kind fielder\n",
              "0         1       1  ...            NaN     NaN\n",
              "1         1       1  ...            NaN     NaN\n",
              "2         1       1  ...            NaN     NaN\n",
              "3         1       1  ...            NaN     NaN\n",
              "4         1       1  ...            NaN     NaN\n",
              "\n",
              "[5 rows x 21 columns]"
            ]
          },
          "metadata": {
            "tags": []
          },
          "execution_count": 40
        }
      ]
    },
    {
      "cell_type": "code",
      "metadata": {
        "colab": {
          "base_uri": "https://localhost:8080/",
          "height": 309
        },
        "id": "aZcBP4XBs5MX",
        "outputId": "83e7906b-681b-48dd-cf81-242b09bd2483"
      },
      "source": [
        "df1.tail()"
      ],
      "execution_count": null,
      "outputs": [
        {
          "output_type": "execute_result",
          "data": {
            "text/html": [
              "<div>\n",
              "<style scoped>\n",
              "    .dataframe tbody tr th:only-of-type {\n",
              "        vertical-align: middle;\n",
              "    }\n",
              "\n",
              "    .dataframe tbody tr th {\n",
              "        vertical-align: top;\n",
              "    }\n",
              "\n",
              "    .dataframe thead th {\n",
              "        text-align: right;\n",
              "    }\n",
              "</style>\n",
              "<table border=\"1\" class=\"dataframe\">\n",
              "  <thead>\n",
              "    <tr style=\"text-align: right;\">\n",
              "      <th></th>\n",
              "      <th>match_id</th>\n",
              "      <th>inning</th>\n",
              "      <th>batting_team</th>\n",
              "      <th>bowling_team</th>\n",
              "      <th>over</th>\n",
              "      <th>ball</th>\n",
              "      <th>batsman</th>\n",
              "      <th>non_striker</th>\n",
              "      <th>bowler</th>\n",
              "      <th>is_super_over</th>\n",
              "      <th>wide_runs</th>\n",
              "      <th>bye_runs</th>\n",
              "      <th>legbye_runs</th>\n",
              "      <th>noball_runs</th>\n",
              "      <th>penalty_runs</th>\n",
              "      <th>batsman_runs</th>\n",
              "      <th>extra_runs</th>\n",
              "      <th>total_runs</th>\n",
              "      <th>player_dismissed</th>\n",
              "      <th>dismissal_kind</th>\n",
              "      <th>fielder</th>\n",
              "    </tr>\n",
              "  </thead>\n",
              "  <tbody>\n",
              "    <tr>\n",
              "      <th>179073</th>\n",
              "      <td>11415</td>\n",
              "      <td>2</td>\n",
              "      <td>Chennai Super Kings</td>\n",
              "      <td>Mumbai Indians</td>\n",
              "      <td>20</td>\n",
              "      <td>2</td>\n",
              "      <td>RA Jadeja</td>\n",
              "      <td>SR Watson</td>\n",
              "      <td>SL Malinga</td>\n",
              "      <td>0</td>\n",
              "      <td>0</td>\n",
              "      <td>0</td>\n",
              "      <td>0</td>\n",
              "      <td>0</td>\n",
              "      <td>0</td>\n",
              "      <td>1</td>\n",
              "      <td>0</td>\n",
              "      <td>1</td>\n",
              "      <td>NaN</td>\n",
              "      <td>NaN</td>\n",
              "      <td>NaN</td>\n",
              "    </tr>\n",
              "    <tr>\n",
              "      <th>179074</th>\n",
              "      <td>11415</td>\n",
              "      <td>2</td>\n",
              "      <td>Chennai Super Kings</td>\n",
              "      <td>Mumbai Indians</td>\n",
              "      <td>20</td>\n",
              "      <td>3</td>\n",
              "      <td>SR Watson</td>\n",
              "      <td>RA Jadeja</td>\n",
              "      <td>SL Malinga</td>\n",
              "      <td>0</td>\n",
              "      <td>0</td>\n",
              "      <td>0</td>\n",
              "      <td>0</td>\n",
              "      <td>0</td>\n",
              "      <td>0</td>\n",
              "      <td>2</td>\n",
              "      <td>0</td>\n",
              "      <td>2</td>\n",
              "      <td>NaN</td>\n",
              "      <td>NaN</td>\n",
              "      <td>NaN</td>\n",
              "    </tr>\n",
              "    <tr>\n",
              "      <th>179075</th>\n",
              "      <td>11415</td>\n",
              "      <td>2</td>\n",
              "      <td>Chennai Super Kings</td>\n",
              "      <td>Mumbai Indians</td>\n",
              "      <td>20</td>\n",
              "      <td>4</td>\n",
              "      <td>SR Watson</td>\n",
              "      <td>RA Jadeja</td>\n",
              "      <td>SL Malinga</td>\n",
              "      <td>0</td>\n",
              "      <td>0</td>\n",
              "      <td>0</td>\n",
              "      <td>0</td>\n",
              "      <td>0</td>\n",
              "      <td>0</td>\n",
              "      <td>1</td>\n",
              "      <td>0</td>\n",
              "      <td>1</td>\n",
              "      <td>SR Watson</td>\n",
              "      <td>run out</td>\n",
              "      <td>KH Pandya</td>\n",
              "    </tr>\n",
              "    <tr>\n",
              "      <th>179076</th>\n",
              "      <td>11415</td>\n",
              "      <td>2</td>\n",
              "      <td>Chennai Super Kings</td>\n",
              "      <td>Mumbai Indians</td>\n",
              "      <td>20</td>\n",
              "      <td>5</td>\n",
              "      <td>SN Thakur</td>\n",
              "      <td>RA Jadeja</td>\n",
              "      <td>SL Malinga</td>\n",
              "      <td>0</td>\n",
              "      <td>0</td>\n",
              "      <td>0</td>\n",
              "      <td>0</td>\n",
              "      <td>0</td>\n",
              "      <td>0</td>\n",
              "      <td>2</td>\n",
              "      <td>0</td>\n",
              "      <td>2</td>\n",
              "      <td>NaN</td>\n",
              "      <td>NaN</td>\n",
              "      <td>NaN</td>\n",
              "    </tr>\n",
              "    <tr>\n",
              "      <th>179077</th>\n",
              "      <td>11415</td>\n",
              "      <td>2</td>\n",
              "      <td>Chennai Super Kings</td>\n",
              "      <td>Mumbai Indians</td>\n",
              "      <td>20</td>\n",
              "      <td>6</td>\n",
              "      <td>SN Thakur</td>\n",
              "      <td>RA Jadeja</td>\n",
              "      <td>SL Malinga</td>\n",
              "      <td>0</td>\n",
              "      <td>0</td>\n",
              "      <td>0</td>\n",
              "      <td>0</td>\n",
              "      <td>0</td>\n",
              "      <td>0</td>\n",
              "      <td>0</td>\n",
              "      <td>0</td>\n",
              "      <td>0</td>\n",
              "      <td>SN Thakur</td>\n",
              "      <td>lbw</td>\n",
              "      <td>NaN</td>\n",
              "    </tr>\n",
              "  </tbody>\n",
              "</table>\n",
              "</div>"
            ],
            "text/plain": [
              "        match_id  inning  ... dismissal_kind    fielder\n",
              "179073     11415       2  ...            NaN        NaN\n",
              "179074     11415       2  ...            NaN        NaN\n",
              "179075     11415       2  ...        run out  KH Pandya\n",
              "179076     11415       2  ...            NaN        NaN\n",
              "179077     11415       2  ...            lbw        NaN\n",
              "\n",
              "[5 rows x 21 columns]"
            ]
          },
          "metadata": {
            "tags": []
          },
          "execution_count": 41
        }
      ]
    },
    {
      "cell_type": "code",
      "metadata": {
        "colab": {
          "base_uri": "https://localhost:8080/"
        },
        "id": "Ji4fj2Wws8xz",
        "outputId": "ddaf34aa-9e05-49a1-b174-8e2dc668a579"
      },
      "source": [
        "df1.shape"
      ],
      "execution_count": null,
      "outputs": [
        {
          "output_type": "execute_result",
          "data": {
            "text/plain": [
              "(179078, 21)"
            ]
          },
          "metadata": {
            "tags": []
          },
          "execution_count": 42
        }
      ]
    },
    {
      "cell_type": "code",
      "metadata": {
        "colab": {
          "base_uri": "https://localhost:8080/",
          "height": 297
        },
        "id": "3Qp1GBeHtAk5",
        "outputId": "5e45a0d8-2e0c-4782-b374-c275f4c074c7"
      },
      "source": [
        "df.describe()"
      ],
      "execution_count": null,
      "outputs": [
        {
          "output_type": "execute_result",
          "data": {
            "text/html": [
              "<div>\n",
              "<style scoped>\n",
              "    .dataframe tbody tr th:only-of-type {\n",
              "        vertical-align: middle;\n",
              "    }\n",
              "\n",
              "    .dataframe tbody tr th {\n",
              "        vertical-align: top;\n",
              "    }\n",
              "\n",
              "    .dataframe thead th {\n",
              "        text-align: right;\n",
              "    }\n",
              "</style>\n",
              "<table border=\"1\" class=\"dataframe\">\n",
              "  <thead>\n",
              "    <tr style=\"text-align: right;\">\n",
              "      <th></th>\n",
              "      <th>id</th>\n",
              "      <th>season</th>\n",
              "      <th>dl_applied</th>\n",
              "      <th>win_by_runs</th>\n",
              "      <th>win_by_wickets</th>\n",
              "    </tr>\n",
              "  </thead>\n",
              "  <tbody>\n",
              "    <tr>\n",
              "      <th>count</th>\n",
              "      <td>756.000000</td>\n",
              "      <td>756.000000</td>\n",
              "      <td>756.000000</td>\n",
              "      <td>756.000000</td>\n",
              "      <td>756.000000</td>\n",
              "    </tr>\n",
              "    <tr>\n",
              "      <th>mean</th>\n",
              "      <td>1792.178571</td>\n",
              "      <td>2013.444444</td>\n",
              "      <td>0.025132</td>\n",
              "      <td>13.283069</td>\n",
              "      <td>3.350529</td>\n",
              "    </tr>\n",
              "    <tr>\n",
              "      <th>std</th>\n",
              "      <td>3464.478148</td>\n",
              "      <td>3.366895</td>\n",
              "      <td>0.156630</td>\n",
              "      <td>23.471144</td>\n",
              "      <td>3.387963</td>\n",
              "    </tr>\n",
              "    <tr>\n",
              "      <th>min</th>\n",
              "      <td>1.000000</td>\n",
              "      <td>2008.000000</td>\n",
              "      <td>0.000000</td>\n",
              "      <td>0.000000</td>\n",
              "      <td>0.000000</td>\n",
              "    </tr>\n",
              "    <tr>\n",
              "      <th>25%</th>\n",
              "      <td>189.750000</td>\n",
              "      <td>2011.000000</td>\n",
              "      <td>0.000000</td>\n",
              "      <td>0.000000</td>\n",
              "      <td>0.000000</td>\n",
              "    </tr>\n",
              "    <tr>\n",
              "      <th>50%</th>\n",
              "      <td>378.500000</td>\n",
              "      <td>2013.000000</td>\n",
              "      <td>0.000000</td>\n",
              "      <td>0.000000</td>\n",
              "      <td>4.000000</td>\n",
              "    </tr>\n",
              "    <tr>\n",
              "      <th>75%</th>\n",
              "      <td>567.250000</td>\n",
              "      <td>2016.000000</td>\n",
              "      <td>0.000000</td>\n",
              "      <td>19.000000</td>\n",
              "      <td>6.000000</td>\n",
              "    </tr>\n",
              "    <tr>\n",
              "      <th>max</th>\n",
              "      <td>11415.000000</td>\n",
              "      <td>2019.000000</td>\n",
              "      <td>1.000000</td>\n",
              "      <td>146.000000</td>\n",
              "      <td>10.000000</td>\n",
              "    </tr>\n",
              "  </tbody>\n",
              "</table>\n",
              "</div>"
            ],
            "text/plain": [
              "                 id       season  dl_applied  win_by_runs  win_by_wickets\n",
              "count    756.000000   756.000000  756.000000   756.000000      756.000000\n",
              "mean    1792.178571  2013.444444    0.025132    13.283069        3.350529\n",
              "std     3464.478148     3.366895    0.156630    23.471144        3.387963\n",
              "min        1.000000  2008.000000    0.000000     0.000000        0.000000\n",
              "25%      189.750000  2011.000000    0.000000     0.000000        0.000000\n",
              "50%      378.500000  2013.000000    0.000000     0.000000        4.000000\n",
              "75%      567.250000  2016.000000    0.000000    19.000000        6.000000\n",
              "max    11415.000000  2019.000000    1.000000   146.000000       10.000000"
            ]
          },
          "metadata": {
            "tags": []
          },
          "execution_count": 43
        }
      ]
    },
    {
      "cell_type": "code",
      "metadata": {
        "colab": {
          "base_uri": "https://localhost:8080/",
          "height": 317
        },
        "id": "5sD4V8u3tIti",
        "outputId": "e707e2bd-86ba-4a67-adf9-fea7d3e4b9f1"
      },
      "source": [
        "df1.describe()"
      ],
      "execution_count": null,
      "outputs": [
        {
          "output_type": "execute_result",
          "data": {
            "text/html": [
              "<div>\n",
              "<style scoped>\n",
              "    .dataframe tbody tr th:only-of-type {\n",
              "        vertical-align: middle;\n",
              "    }\n",
              "\n",
              "    .dataframe tbody tr th {\n",
              "        vertical-align: top;\n",
              "    }\n",
              "\n",
              "    .dataframe thead th {\n",
              "        text-align: right;\n",
              "    }\n",
              "</style>\n",
              "<table border=\"1\" class=\"dataframe\">\n",
              "  <thead>\n",
              "    <tr style=\"text-align: right;\">\n",
              "      <th></th>\n",
              "      <th>match_id</th>\n",
              "      <th>inning</th>\n",
              "      <th>over</th>\n",
              "      <th>ball</th>\n",
              "      <th>is_super_over</th>\n",
              "      <th>wide_runs</th>\n",
              "      <th>bye_runs</th>\n",
              "      <th>legbye_runs</th>\n",
              "      <th>noball_runs</th>\n",
              "      <th>penalty_runs</th>\n",
              "      <th>batsman_runs</th>\n",
              "      <th>extra_runs</th>\n",
              "      <th>total_runs</th>\n",
              "    </tr>\n",
              "  </thead>\n",
              "  <tbody>\n",
              "    <tr>\n",
              "      <th>count</th>\n",
              "      <td>179078.000000</td>\n",
              "      <td>179078.000000</td>\n",
              "      <td>179078.000000</td>\n",
              "      <td>179078.000000</td>\n",
              "      <td>179078.000000</td>\n",
              "      <td>179078.000000</td>\n",
              "      <td>179078.000000</td>\n",
              "      <td>179078.000000</td>\n",
              "      <td>179078.000000</td>\n",
              "      <td>179078.000000</td>\n",
              "      <td>179078.000000</td>\n",
              "      <td>179078.000000</td>\n",
              "      <td>179078.000000</td>\n",
              "    </tr>\n",
              "    <tr>\n",
              "      <th>mean</th>\n",
              "      <td>1802.252957</td>\n",
              "      <td>1.482952</td>\n",
              "      <td>10.162488</td>\n",
              "      <td>3.615587</td>\n",
              "      <td>0.000452</td>\n",
              "      <td>0.036721</td>\n",
              "      <td>0.004936</td>\n",
              "      <td>0.021136</td>\n",
              "      <td>0.004183</td>\n",
              "      <td>0.000056</td>\n",
              "      <td>1.246864</td>\n",
              "      <td>0.067032</td>\n",
              "      <td>1.313897</td>\n",
              "    </tr>\n",
              "    <tr>\n",
              "      <th>std</th>\n",
              "      <td>3472.322805</td>\n",
              "      <td>0.502074</td>\n",
              "      <td>5.677684</td>\n",
              "      <td>1.806966</td>\n",
              "      <td>0.021263</td>\n",
              "      <td>0.251161</td>\n",
              "      <td>0.116480</td>\n",
              "      <td>0.194908</td>\n",
              "      <td>0.070492</td>\n",
              "      <td>0.016709</td>\n",
              "      <td>1.608270</td>\n",
              "      <td>0.342553</td>\n",
              "      <td>1.605422</td>\n",
              "    </tr>\n",
              "    <tr>\n",
              "      <th>min</th>\n",
              "      <td>1.000000</td>\n",
              "      <td>1.000000</td>\n",
              "      <td>1.000000</td>\n",
              "      <td>1.000000</td>\n",
              "      <td>0.000000</td>\n",
              "      <td>0.000000</td>\n",
              "      <td>0.000000</td>\n",
              "      <td>0.000000</td>\n",
              "      <td>0.000000</td>\n",
              "      <td>0.000000</td>\n",
              "      <td>0.000000</td>\n",
              "      <td>0.000000</td>\n",
              "      <td>0.000000</td>\n",
              "    </tr>\n",
              "    <tr>\n",
              "      <th>25%</th>\n",
              "      <td>190.000000</td>\n",
              "      <td>1.000000</td>\n",
              "      <td>5.000000</td>\n",
              "      <td>2.000000</td>\n",
              "      <td>0.000000</td>\n",
              "      <td>0.000000</td>\n",
              "      <td>0.000000</td>\n",
              "      <td>0.000000</td>\n",
              "      <td>0.000000</td>\n",
              "      <td>0.000000</td>\n",
              "      <td>0.000000</td>\n",
              "      <td>0.000000</td>\n",
              "      <td>0.000000</td>\n",
              "    </tr>\n",
              "    <tr>\n",
              "      <th>50%</th>\n",
              "      <td>379.000000</td>\n",
              "      <td>1.000000</td>\n",
              "      <td>10.000000</td>\n",
              "      <td>4.000000</td>\n",
              "      <td>0.000000</td>\n",
              "      <td>0.000000</td>\n",
              "      <td>0.000000</td>\n",
              "      <td>0.000000</td>\n",
              "      <td>0.000000</td>\n",
              "      <td>0.000000</td>\n",
              "      <td>1.000000</td>\n",
              "      <td>0.000000</td>\n",
              "      <td>1.000000</td>\n",
              "    </tr>\n",
              "    <tr>\n",
              "      <th>75%</th>\n",
              "      <td>567.000000</td>\n",
              "      <td>2.000000</td>\n",
              "      <td>15.000000</td>\n",
              "      <td>5.000000</td>\n",
              "      <td>0.000000</td>\n",
              "      <td>0.000000</td>\n",
              "      <td>0.000000</td>\n",
              "      <td>0.000000</td>\n",
              "      <td>0.000000</td>\n",
              "      <td>0.000000</td>\n",
              "      <td>1.000000</td>\n",
              "      <td>0.000000</td>\n",
              "      <td>1.000000</td>\n",
              "    </tr>\n",
              "    <tr>\n",
              "      <th>max</th>\n",
              "      <td>11415.000000</td>\n",
              "      <td>5.000000</td>\n",
              "      <td>20.000000</td>\n",
              "      <td>9.000000</td>\n",
              "      <td>1.000000</td>\n",
              "      <td>5.000000</td>\n",
              "      <td>4.000000</td>\n",
              "      <td>5.000000</td>\n",
              "      <td>5.000000</td>\n",
              "      <td>5.000000</td>\n",
              "      <td>7.000000</td>\n",
              "      <td>7.000000</td>\n",
              "      <td>10.000000</td>\n",
              "    </tr>\n",
              "  </tbody>\n",
              "</table>\n",
              "</div>"
            ],
            "text/plain": [
              "            match_id         inning  ...     extra_runs     total_runs\n",
              "count  179078.000000  179078.000000  ...  179078.000000  179078.000000\n",
              "mean     1802.252957       1.482952  ...       0.067032       1.313897\n",
              "std      3472.322805       0.502074  ...       0.342553       1.605422\n",
              "min         1.000000       1.000000  ...       0.000000       0.000000\n",
              "25%       190.000000       1.000000  ...       0.000000       0.000000\n",
              "50%       379.000000       1.000000  ...       0.000000       1.000000\n",
              "75%       567.000000       2.000000  ...       0.000000       1.000000\n",
              "max     11415.000000       5.000000  ...       7.000000      10.000000\n",
              "\n",
              "[8 rows x 13 columns]"
            ]
          },
          "metadata": {
            "tags": []
          },
          "execution_count": 44
        }
      ]
    },
    {
      "cell_type": "code",
      "metadata": {
        "colab": {
          "base_uri": "https://localhost:8080/",
          "height": 267
        },
        "id": "64T9kGjLtN5d",
        "outputId": "66431096-166f-43bf-fbf3-da8ca2755e10"
      },
      "source": [
        "#Merging two dataset\n",
        "merge = pd.merge(df1,df,left_on='match_id',right_on='id')\n",
        "merge.head(2)"
      ],
      "execution_count": null,
      "outputs": [
        {
          "output_type": "execute_result",
          "data": {
            "text/html": [
              "<div>\n",
              "<style scoped>\n",
              "    .dataframe tbody tr th:only-of-type {\n",
              "        vertical-align: middle;\n",
              "    }\n",
              "\n",
              "    .dataframe tbody tr th {\n",
              "        vertical-align: top;\n",
              "    }\n",
              "\n",
              "    .dataframe thead th {\n",
              "        text-align: right;\n",
              "    }\n",
              "</style>\n",
              "<table border=\"1\" class=\"dataframe\">\n",
              "  <thead>\n",
              "    <tr style=\"text-align: right;\">\n",
              "      <th></th>\n",
              "      <th>match_id</th>\n",
              "      <th>inning</th>\n",
              "      <th>batting_team</th>\n",
              "      <th>bowling_team</th>\n",
              "      <th>over</th>\n",
              "      <th>ball</th>\n",
              "      <th>batsman</th>\n",
              "      <th>non_striker</th>\n",
              "      <th>bowler</th>\n",
              "      <th>is_super_over</th>\n",
              "      <th>wide_runs</th>\n",
              "      <th>bye_runs</th>\n",
              "      <th>legbye_runs</th>\n",
              "      <th>noball_runs</th>\n",
              "      <th>penalty_runs</th>\n",
              "      <th>batsman_runs</th>\n",
              "      <th>extra_runs</th>\n",
              "      <th>total_runs</th>\n",
              "      <th>player_dismissed</th>\n",
              "      <th>dismissal_kind</th>\n",
              "      <th>fielder</th>\n",
              "      <th>id</th>\n",
              "      <th>season</th>\n",
              "      <th>city</th>\n",
              "      <th>date</th>\n",
              "      <th>team1</th>\n",
              "      <th>team2</th>\n",
              "      <th>toss_winner</th>\n",
              "      <th>toss_decision</th>\n",
              "      <th>result</th>\n",
              "      <th>dl_applied</th>\n",
              "      <th>winner</th>\n",
              "      <th>win_by_runs</th>\n",
              "      <th>win_by_wickets</th>\n",
              "      <th>player_of_match</th>\n",
              "      <th>venue</th>\n",
              "      <th>umpire1</th>\n",
              "      <th>umpire2</th>\n",
              "      <th>umpire3</th>\n",
              "    </tr>\n",
              "  </thead>\n",
              "  <tbody>\n",
              "    <tr>\n",
              "      <th>0</th>\n",
              "      <td>1</td>\n",
              "      <td>1</td>\n",
              "      <td>Sunrisers Hyderabad</td>\n",
              "      <td>Royal Challengers Bangalore</td>\n",
              "      <td>1</td>\n",
              "      <td>1</td>\n",
              "      <td>DA Warner</td>\n",
              "      <td>S Dhawan</td>\n",
              "      <td>TS Mills</td>\n",
              "      <td>0</td>\n",
              "      <td>0</td>\n",
              "      <td>0</td>\n",
              "      <td>0</td>\n",
              "      <td>0</td>\n",
              "      <td>0</td>\n",
              "      <td>0</td>\n",
              "      <td>0</td>\n",
              "      <td>0</td>\n",
              "      <td>NaN</td>\n",
              "      <td>NaN</td>\n",
              "      <td>NaN</td>\n",
              "      <td>1</td>\n",
              "      <td>2017</td>\n",
              "      <td>Hyderabad</td>\n",
              "      <td>05/04/2017</td>\n",
              "      <td>Sunrisers Hyderabad</td>\n",
              "      <td>Royal Challengers Bangalore</td>\n",
              "      <td>Royal Challengers Bangalore</td>\n",
              "      <td>field</td>\n",
              "      <td>normal</td>\n",
              "      <td>0</td>\n",
              "      <td>Sunrisers Hyderabad</td>\n",
              "      <td>35</td>\n",
              "      <td>0</td>\n",
              "      <td>Yuvraj Singh</td>\n",
              "      <td>Rajiv Gandhi International Stadium, Uppal</td>\n",
              "      <td>AY Dandekar</td>\n",
              "      <td>NJ Llong</td>\n",
              "      <td>NaN</td>\n",
              "    </tr>\n",
              "    <tr>\n",
              "      <th>1</th>\n",
              "      <td>1</td>\n",
              "      <td>1</td>\n",
              "      <td>Sunrisers Hyderabad</td>\n",
              "      <td>Royal Challengers Bangalore</td>\n",
              "      <td>1</td>\n",
              "      <td>2</td>\n",
              "      <td>DA Warner</td>\n",
              "      <td>S Dhawan</td>\n",
              "      <td>TS Mills</td>\n",
              "      <td>0</td>\n",
              "      <td>0</td>\n",
              "      <td>0</td>\n",
              "      <td>0</td>\n",
              "      <td>0</td>\n",
              "      <td>0</td>\n",
              "      <td>0</td>\n",
              "      <td>0</td>\n",
              "      <td>0</td>\n",
              "      <td>NaN</td>\n",
              "      <td>NaN</td>\n",
              "      <td>NaN</td>\n",
              "      <td>1</td>\n",
              "      <td>2017</td>\n",
              "      <td>Hyderabad</td>\n",
              "      <td>05/04/2017</td>\n",
              "      <td>Sunrisers Hyderabad</td>\n",
              "      <td>Royal Challengers Bangalore</td>\n",
              "      <td>Royal Challengers Bangalore</td>\n",
              "      <td>field</td>\n",
              "      <td>normal</td>\n",
              "      <td>0</td>\n",
              "      <td>Sunrisers Hyderabad</td>\n",
              "      <td>35</td>\n",
              "      <td>0</td>\n",
              "      <td>Yuvraj Singh</td>\n",
              "      <td>Rajiv Gandhi International Stadium, Uppal</td>\n",
              "      <td>AY Dandekar</td>\n",
              "      <td>NJ Llong</td>\n",
              "      <td>NaN</td>\n",
              "    </tr>\n",
              "  </tbody>\n",
              "</table>\n",
              "</div>"
            ],
            "text/plain": [
              "   match_id  inning         batting_team  ...      umpire1   umpire2  umpire3\n",
              "0         1       1  Sunrisers Hyderabad  ...  AY Dandekar  NJ Llong      NaN\n",
              "1         1       1  Sunrisers Hyderabad  ...  AY Dandekar  NJ Llong      NaN\n",
              "\n",
              "[2 rows x 39 columns]"
            ]
          },
          "metadata": {
            "tags": []
          },
          "execution_count": 45
        }
      ]
    },
    {
      "cell_type": "code",
      "metadata": {
        "colab": {
          "base_uri": "https://localhost:8080/"
        },
        "id": "MDMAs-8gtgeA",
        "outputId": "ca3997e6-469c-49c4-f522-d04972deb7cf"
      },
      "source": [
        "merge.info()"
      ],
      "execution_count": null,
      "outputs": [
        {
          "output_type": "stream",
          "text": [
            "<class 'pandas.core.frame.DataFrame'>\n",
            "Int64Index: 179078 entries, 0 to 179077\n",
            "Data columns (total 39 columns):\n",
            " #   Column            Non-Null Count   Dtype \n",
            "---  ------            --------------   ----- \n",
            " 0   match_id          179078 non-null  int64 \n",
            " 1   inning            179078 non-null  int64 \n",
            " 2   batting_team      179078 non-null  object\n",
            " 3   bowling_team      179078 non-null  object\n",
            " 4   over              179078 non-null  int64 \n",
            " 5   ball              179078 non-null  int64 \n",
            " 6   batsman           179078 non-null  object\n",
            " 7   non_striker       179078 non-null  object\n",
            " 8   bowler            179078 non-null  object\n",
            " 9   is_super_over     179078 non-null  int64 \n",
            " 10  wide_runs         179078 non-null  int64 \n",
            " 11  bye_runs          179078 non-null  int64 \n",
            " 12  legbye_runs       179078 non-null  int64 \n",
            " 13  noball_runs       179078 non-null  int64 \n",
            " 14  penalty_runs      179078 non-null  int64 \n",
            " 15  batsman_runs      179078 non-null  int64 \n",
            " 16  extra_runs        179078 non-null  int64 \n",
            " 17  total_runs        179078 non-null  int64 \n",
            " 18  player_dismissed  8834 non-null    object\n",
            " 19  dismissal_kind    8834 non-null    object\n",
            " 20  fielder           6448 non-null    object\n",
            " 21  id                179078 non-null  int64 \n",
            " 22  season            179078 non-null  int64 \n",
            " 23  city              177378 non-null  object\n",
            " 24  date              179078 non-null  object\n",
            " 25  team1             179078 non-null  object\n",
            " 26  team2             179078 non-null  object\n",
            " 27  toss_winner       179078 non-null  object\n",
            " 28  toss_decision     179078 non-null  object\n",
            " 29  result            179078 non-null  object\n",
            " 30  dl_applied        179078 non-null  int64 \n",
            " 31  winner            178706 non-null  object\n",
            " 32  win_by_runs       179078 non-null  int64 \n",
            " 33  win_by_wickets    179078 non-null  int64 \n",
            " 34  player_of_match   178706 non-null  object\n",
            " 35  venue             179078 non-null  object\n",
            " 36  umpire1           178578 non-null  object\n",
            " 37  umpire2           178578 non-null  object\n",
            " 38  umpire3           28366 non-null   object\n",
            "dtypes: int64(18), object(21)\n",
            "memory usage: 54.7+ MB\n"
          ],
          "name": "stdout"
        }
      ]
    },
    {
      "cell_type": "code",
      "metadata": {
        "colab": {
          "base_uri": "https://localhost:8080/",
          "height": 317
        },
        "id": "rCHZA7uatmSg",
        "outputId": "b9f88717-44a7-4218-c1de-a5ef944de1a6"
      },
      "source": [
        "merge.describe()"
      ],
      "execution_count": null,
      "outputs": [
        {
          "output_type": "execute_result",
          "data": {
            "text/html": [
              "<div>\n",
              "<style scoped>\n",
              "    .dataframe tbody tr th:only-of-type {\n",
              "        vertical-align: middle;\n",
              "    }\n",
              "\n",
              "    .dataframe tbody tr th {\n",
              "        vertical-align: top;\n",
              "    }\n",
              "\n",
              "    .dataframe thead th {\n",
              "        text-align: right;\n",
              "    }\n",
              "</style>\n",
              "<table border=\"1\" class=\"dataframe\">\n",
              "  <thead>\n",
              "    <tr style=\"text-align: right;\">\n",
              "      <th></th>\n",
              "      <th>match_id</th>\n",
              "      <th>inning</th>\n",
              "      <th>over</th>\n",
              "      <th>ball</th>\n",
              "      <th>is_super_over</th>\n",
              "      <th>wide_runs</th>\n",
              "      <th>bye_runs</th>\n",
              "      <th>legbye_runs</th>\n",
              "      <th>noball_runs</th>\n",
              "      <th>penalty_runs</th>\n",
              "      <th>batsman_runs</th>\n",
              "      <th>extra_runs</th>\n",
              "      <th>total_runs</th>\n",
              "      <th>id</th>\n",
              "      <th>season</th>\n",
              "      <th>dl_applied</th>\n",
              "      <th>win_by_runs</th>\n",
              "      <th>win_by_wickets</th>\n",
              "    </tr>\n",
              "  </thead>\n",
              "  <tbody>\n",
              "    <tr>\n",
              "      <th>count</th>\n",
              "      <td>179078.000000</td>\n",
              "      <td>179078.000000</td>\n",
              "      <td>179078.000000</td>\n",
              "      <td>179078.000000</td>\n",
              "      <td>179078.000000</td>\n",
              "      <td>179078.000000</td>\n",
              "      <td>179078.000000</td>\n",
              "      <td>179078.000000</td>\n",
              "      <td>179078.000000</td>\n",
              "      <td>179078.000000</td>\n",
              "      <td>179078.000000</td>\n",
              "      <td>179078.000000</td>\n",
              "      <td>179078.000000</td>\n",
              "      <td>179078.000000</td>\n",
              "      <td>179078.000000</td>\n",
              "      <td>179078.000000</td>\n",
              "      <td>179078.000000</td>\n",
              "      <td>179078.000000</td>\n",
              "    </tr>\n",
              "    <tr>\n",
              "      <th>mean</th>\n",
              "      <td>1802.252957</td>\n",
              "      <td>1.482952</td>\n",
              "      <td>10.162488</td>\n",
              "      <td>3.615587</td>\n",
              "      <td>0.000452</td>\n",
              "      <td>0.036721</td>\n",
              "      <td>0.004936</td>\n",
              "      <td>0.021136</td>\n",
              "      <td>0.004183</td>\n",
              "      <td>0.000056</td>\n",
              "      <td>1.246864</td>\n",
              "      <td>0.067032</td>\n",
              "      <td>1.313897</td>\n",
              "      <td>1802.252957</td>\n",
              "      <td>2013.444510</td>\n",
              "      <td>0.017914</td>\n",
              "      <td>13.404036</td>\n",
              "      <td>3.261579</td>\n",
              "    </tr>\n",
              "    <tr>\n",
              "      <th>std</th>\n",
              "      <td>3472.322805</td>\n",
              "      <td>0.502074</td>\n",
              "      <td>5.677684</td>\n",
              "      <td>1.806966</td>\n",
              "      <td>0.021263</td>\n",
              "      <td>0.251161</td>\n",
              "      <td>0.116480</td>\n",
              "      <td>0.194908</td>\n",
              "      <td>0.070492</td>\n",
              "      <td>0.016709</td>\n",
              "      <td>1.608270</td>\n",
              "      <td>0.342553</td>\n",
              "      <td>1.605422</td>\n",
              "      <td>3472.322805</td>\n",
              "      <td>3.363947</td>\n",
              "      <td>0.132639</td>\n",
              "      <td>23.261007</td>\n",
              "      <td>3.347033</td>\n",
              "    </tr>\n",
              "    <tr>\n",
              "      <th>min</th>\n",
              "      <td>1.000000</td>\n",
              "      <td>1.000000</td>\n",
              "      <td>1.000000</td>\n",
              "      <td>1.000000</td>\n",
              "      <td>0.000000</td>\n",
              "      <td>0.000000</td>\n",
              "      <td>0.000000</td>\n",
              "      <td>0.000000</td>\n",
              "      <td>0.000000</td>\n",
              "      <td>0.000000</td>\n",
              "      <td>0.000000</td>\n",
              "      <td>0.000000</td>\n",
              "      <td>0.000000</td>\n",
              "      <td>1.000000</td>\n",
              "      <td>2008.000000</td>\n",
              "      <td>0.000000</td>\n",
              "      <td>0.000000</td>\n",
              "      <td>0.000000</td>\n",
              "    </tr>\n",
              "    <tr>\n",
              "      <th>25%</th>\n",
              "      <td>190.000000</td>\n",
              "      <td>1.000000</td>\n",
              "      <td>5.000000</td>\n",
              "      <td>2.000000</td>\n",
              "      <td>0.000000</td>\n",
              "      <td>0.000000</td>\n",
              "      <td>0.000000</td>\n",
              "      <td>0.000000</td>\n",
              "      <td>0.000000</td>\n",
              "      <td>0.000000</td>\n",
              "      <td>0.000000</td>\n",
              "      <td>0.000000</td>\n",
              "      <td>0.000000</td>\n",
              "      <td>190.000000</td>\n",
              "      <td>2011.000000</td>\n",
              "      <td>0.000000</td>\n",
              "      <td>0.000000</td>\n",
              "      <td>0.000000</td>\n",
              "    </tr>\n",
              "    <tr>\n",
              "      <th>50%</th>\n",
              "      <td>379.000000</td>\n",
              "      <td>1.000000</td>\n",
              "      <td>10.000000</td>\n",
              "      <td>4.000000</td>\n",
              "      <td>0.000000</td>\n",
              "      <td>0.000000</td>\n",
              "      <td>0.000000</td>\n",
              "      <td>0.000000</td>\n",
              "      <td>0.000000</td>\n",
              "      <td>0.000000</td>\n",
              "      <td>1.000000</td>\n",
              "      <td>0.000000</td>\n",
              "      <td>1.000000</td>\n",
              "      <td>379.000000</td>\n",
              "      <td>2013.000000</td>\n",
              "      <td>0.000000</td>\n",
              "      <td>0.000000</td>\n",
              "      <td>3.000000</td>\n",
              "    </tr>\n",
              "    <tr>\n",
              "      <th>75%</th>\n",
              "      <td>567.000000</td>\n",
              "      <td>2.000000</td>\n",
              "      <td>15.000000</td>\n",
              "      <td>5.000000</td>\n",
              "      <td>0.000000</td>\n",
              "      <td>0.000000</td>\n",
              "      <td>0.000000</td>\n",
              "      <td>0.000000</td>\n",
              "      <td>0.000000</td>\n",
              "      <td>0.000000</td>\n",
              "      <td>1.000000</td>\n",
              "      <td>0.000000</td>\n",
              "      <td>1.000000</td>\n",
              "      <td>567.000000</td>\n",
              "      <td>2016.000000</td>\n",
              "      <td>0.000000</td>\n",
              "      <td>19.000000</td>\n",
              "      <td>6.000000</td>\n",
              "    </tr>\n",
              "    <tr>\n",
              "      <th>max</th>\n",
              "      <td>11415.000000</td>\n",
              "      <td>5.000000</td>\n",
              "      <td>20.000000</td>\n",
              "      <td>9.000000</td>\n",
              "      <td>1.000000</td>\n",
              "      <td>5.000000</td>\n",
              "      <td>4.000000</td>\n",
              "      <td>5.000000</td>\n",
              "      <td>5.000000</td>\n",
              "      <td>5.000000</td>\n",
              "      <td>7.000000</td>\n",
              "      <td>7.000000</td>\n",
              "      <td>10.000000</td>\n",
              "      <td>11415.000000</td>\n",
              "      <td>2019.000000</td>\n",
              "      <td>1.000000</td>\n",
              "      <td>146.000000</td>\n",
              "      <td>10.000000</td>\n",
              "    </tr>\n",
              "  </tbody>\n",
              "</table>\n",
              "</div>"
            ],
            "text/plain": [
              "            match_id         inning  ...    win_by_runs  win_by_wickets\n",
              "count  179078.000000  179078.000000  ...  179078.000000   179078.000000\n",
              "mean     1802.252957       1.482952  ...      13.404036        3.261579\n",
              "std      3472.322805       0.502074  ...      23.261007        3.347033\n",
              "min         1.000000       1.000000  ...       0.000000        0.000000\n",
              "25%       190.000000       1.000000  ...       0.000000        0.000000\n",
              "50%       379.000000       1.000000  ...       0.000000        3.000000\n",
              "75%       567.000000       2.000000  ...      19.000000        6.000000\n",
              "max     11415.000000       5.000000  ...     146.000000       10.000000\n",
              "\n",
              "[8 rows x 18 columns]"
            ]
          },
          "metadata": {
            "tags": []
          },
          "execution_count": 47
        }
      ]
    },
    {
      "cell_type": "code",
      "metadata": {
        "colab": {
          "base_uri": "https://localhost:8080/"
        },
        "id": "x1-7wPeTtr57",
        "outputId": "891dbd5a-62af-44f7-e0ee-b4ede326379c"
      },
      "source": [
        "df.id.is_unique"
      ],
      "execution_count": null,
      "outputs": [
        {
          "output_type": "execute_result",
          "data": {
            "text/plain": [
              "True"
            ]
          },
          "metadata": {
            "tags": []
          },
          "execution_count": 48
        }
      ]
    },
    {
      "cell_type": "code",
      "metadata": {
        "id": "g0oNxIR8tw_k"
      },
      "source": [
        "df.set_index('id',inplace = True)"
      ],
      "execution_count": null,
      "outputs": []
    },
    {
      "cell_type": "code",
      "metadata": {
        "colab": {
          "base_uri": "https://localhost:8080/",
          "height": 444
        },
        "id": "diAj1ATHt2lF",
        "outputId": "a70437b5-ea56-4415-9dc8-26fbe7c656d9"
      },
      "source": [
        "df.describe(include = 'all')"
      ],
      "execution_count": null,
      "outputs": [
        {
          "output_type": "execute_result",
          "data": {
            "text/html": [
              "<div>\n",
              "<style scoped>\n",
              "    .dataframe tbody tr th:only-of-type {\n",
              "        vertical-align: middle;\n",
              "    }\n",
              "\n",
              "    .dataframe tbody tr th {\n",
              "        vertical-align: top;\n",
              "    }\n",
              "\n",
              "    .dataframe thead th {\n",
              "        text-align: right;\n",
              "    }\n",
              "</style>\n",
              "<table border=\"1\" class=\"dataframe\">\n",
              "  <thead>\n",
              "    <tr style=\"text-align: right;\">\n",
              "      <th></th>\n",
              "      <th>season</th>\n",
              "      <th>city</th>\n",
              "      <th>date</th>\n",
              "      <th>team1</th>\n",
              "      <th>team2</th>\n",
              "      <th>toss_winner</th>\n",
              "      <th>toss_decision</th>\n",
              "      <th>result</th>\n",
              "      <th>dl_applied</th>\n",
              "      <th>winner</th>\n",
              "      <th>win_by_runs</th>\n",
              "      <th>win_by_wickets</th>\n",
              "      <th>player_of_match</th>\n",
              "      <th>venue</th>\n",
              "      <th>umpire1</th>\n",
              "      <th>umpire2</th>\n",
              "      <th>umpire3</th>\n",
              "    </tr>\n",
              "  </thead>\n",
              "  <tbody>\n",
              "    <tr>\n",
              "      <th>count</th>\n",
              "      <td>756.000000</td>\n",
              "      <td>749</td>\n",
              "      <td>756</td>\n",
              "      <td>756</td>\n",
              "      <td>756</td>\n",
              "      <td>756</td>\n",
              "      <td>756</td>\n",
              "      <td>756</td>\n",
              "      <td>756.000000</td>\n",
              "      <td>752</td>\n",
              "      <td>756.000000</td>\n",
              "      <td>756.000000</td>\n",
              "      <td>752</td>\n",
              "      <td>756</td>\n",
              "      <td>754</td>\n",
              "      <td>754</td>\n",
              "      <td>119</td>\n",
              "    </tr>\n",
              "    <tr>\n",
              "      <th>unique</th>\n",
              "      <td>NaN</td>\n",
              "      <td>32</td>\n",
              "      <td>546</td>\n",
              "      <td>15</td>\n",
              "      <td>15</td>\n",
              "      <td>15</td>\n",
              "      <td>2</td>\n",
              "      <td>3</td>\n",
              "      <td>NaN</td>\n",
              "      <td>15</td>\n",
              "      <td>NaN</td>\n",
              "      <td>NaN</td>\n",
              "      <td>226</td>\n",
              "      <td>41</td>\n",
              "      <td>61</td>\n",
              "      <td>65</td>\n",
              "      <td>25</td>\n",
              "    </tr>\n",
              "    <tr>\n",
              "      <th>top</th>\n",
              "      <td>NaN</td>\n",
              "      <td>Mumbai</td>\n",
              "      <td>14/03/2010</td>\n",
              "      <td>Mumbai Indians</td>\n",
              "      <td>Royal Challengers Bangalore</td>\n",
              "      <td>Mumbai Indians</td>\n",
              "      <td>field</td>\n",
              "      <td>normal</td>\n",
              "      <td>NaN</td>\n",
              "      <td>Mumbai Indians</td>\n",
              "      <td>NaN</td>\n",
              "      <td>NaN</td>\n",
              "      <td>CH Gayle</td>\n",
              "      <td>Eden Gardens</td>\n",
              "      <td>HDPK Dharmasena</td>\n",
              "      <td>S Ravi</td>\n",
              "      <td>Nitin Menon</td>\n",
              "    </tr>\n",
              "    <tr>\n",
              "      <th>freq</th>\n",
              "      <td>NaN</td>\n",
              "      <td>101</td>\n",
              "      <td>2</td>\n",
              "      <td>101</td>\n",
              "      <td>95</td>\n",
              "      <td>98</td>\n",
              "      <td>463</td>\n",
              "      <td>743</td>\n",
              "      <td>NaN</td>\n",
              "      <td>109</td>\n",
              "      <td>NaN</td>\n",
              "      <td>NaN</td>\n",
              "      <td>21</td>\n",
              "      <td>77</td>\n",
              "      <td>73</td>\n",
              "      <td>57</td>\n",
              "      <td>10</td>\n",
              "    </tr>\n",
              "    <tr>\n",
              "      <th>mean</th>\n",
              "      <td>2013.444444</td>\n",
              "      <td>NaN</td>\n",
              "      <td>NaN</td>\n",
              "      <td>NaN</td>\n",
              "      <td>NaN</td>\n",
              "      <td>NaN</td>\n",
              "      <td>NaN</td>\n",
              "      <td>NaN</td>\n",
              "      <td>0.025132</td>\n",
              "      <td>NaN</td>\n",
              "      <td>13.283069</td>\n",
              "      <td>3.350529</td>\n",
              "      <td>NaN</td>\n",
              "      <td>NaN</td>\n",
              "      <td>NaN</td>\n",
              "      <td>NaN</td>\n",
              "      <td>NaN</td>\n",
              "    </tr>\n",
              "    <tr>\n",
              "      <th>std</th>\n",
              "      <td>3.366895</td>\n",
              "      <td>NaN</td>\n",
              "      <td>NaN</td>\n",
              "      <td>NaN</td>\n",
              "      <td>NaN</td>\n",
              "      <td>NaN</td>\n",
              "      <td>NaN</td>\n",
              "      <td>NaN</td>\n",
              "      <td>0.156630</td>\n",
              "      <td>NaN</td>\n",
              "      <td>23.471144</td>\n",
              "      <td>3.387963</td>\n",
              "      <td>NaN</td>\n",
              "      <td>NaN</td>\n",
              "      <td>NaN</td>\n",
              "      <td>NaN</td>\n",
              "      <td>NaN</td>\n",
              "    </tr>\n",
              "    <tr>\n",
              "      <th>min</th>\n",
              "      <td>2008.000000</td>\n",
              "      <td>NaN</td>\n",
              "      <td>NaN</td>\n",
              "      <td>NaN</td>\n",
              "      <td>NaN</td>\n",
              "      <td>NaN</td>\n",
              "      <td>NaN</td>\n",
              "      <td>NaN</td>\n",
              "      <td>0.000000</td>\n",
              "      <td>NaN</td>\n",
              "      <td>0.000000</td>\n",
              "      <td>0.000000</td>\n",
              "      <td>NaN</td>\n",
              "      <td>NaN</td>\n",
              "      <td>NaN</td>\n",
              "      <td>NaN</td>\n",
              "      <td>NaN</td>\n",
              "    </tr>\n",
              "    <tr>\n",
              "      <th>25%</th>\n",
              "      <td>2011.000000</td>\n",
              "      <td>NaN</td>\n",
              "      <td>NaN</td>\n",
              "      <td>NaN</td>\n",
              "      <td>NaN</td>\n",
              "      <td>NaN</td>\n",
              "      <td>NaN</td>\n",
              "      <td>NaN</td>\n",
              "      <td>0.000000</td>\n",
              "      <td>NaN</td>\n",
              "      <td>0.000000</td>\n",
              "      <td>0.000000</td>\n",
              "      <td>NaN</td>\n",
              "      <td>NaN</td>\n",
              "      <td>NaN</td>\n",
              "      <td>NaN</td>\n",
              "      <td>NaN</td>\n",
              "    </tr>\n",
              "    <tr>\n",
              "      <th>50%</th>\n",
              "      <td>2013.000000</td>\n",
              "      <td>NaN</td>\n",
              "      <td>NaN</td>\n",
              "      <td>NaN</td>\n",
              "      <td>NaN</td>\n",
              "      <td>NaN</td>\n",
              "      <td>NaN</td>\n",
              "      <td>NaN</td>\n",
              "      <td>0.000000</td>\n",
              "      <td>NaN</td>\n",
              "      <td>0.000000</td>\n",
              "      <td>4.000000</td>\n",
              "      <td>NaN</td>\n",
              "      <td>NaN</td>\n",
              "      <td>NaN</td>\n",
              "      <td>NaN</td>\n",
              "      <td>NaN</td>\n",
              "    </tr>\n",
              "    <tr>\n",
              "      <th>75%</th>\n",
              "      <td>2016.000000</td>\n",
              "      <td>NaN</td>\n",
              "      <td>NaN</td>\n",
              "      <td>NaN</td>\n",
              "      <td>NaN</td>\n",
              "      <td>NaN</td>\n",
              "      <td>NaN</td>\n",
              "      <td>NaN</td>\n",
              "      <td>0.000000</td>\n",
              "      <td>NaN</td>\n",
              "      <td>19.000000</td>\n",
              "      <td>6.000000</td>\n",
              "      <td>NaN</td>\n",
              "      <td>NaN</td>\n",
              "      <td>NaN</td>\n",
              "      <td>NaN</td>\n",
              "      <td>NaN</td>\n",
              "    </tr>\n",
              "    <tr>\n",
              "      <th>max</th>\n",
              "      <td>2019.000000</td>\n",
              "      <td>NaN</td>\n",
              "      <td>NaN</td>\n",
              "      <td>NaN</td>\n",
              "      <td>NaN</td>\n",
              "      <td>NaN</td>\n",
              "      <td>NaN</td>\n",
              "      <td>NaN</td>\n",
              "      <td>1.000000</td>\n",
              "      <td>NaN</td>\n",
              "      <td>146.000000</td>\n",
              "      <td>10.000000</td>\n",
              "      <td>NaN</td>\n",
              "      <td>NaN</td>\n",
              "      <td>NaN</td>\n",
              "      <td>NaN</td>\n",
              "      <td>NaN</td>\n",
              "    </tr>\n",
              "  </tbody>\n",
              "</table>\n",
              "</div>"
            ],
            "text/plain": [
              "             season    city        date  ...          umpire1 umpire2      umpire3\n",
              "count    756.000000     749         756  ...              754     754          119\n",
              "unique          NaN      32         546  ...               61      65           25\n",
              "top             NaN  Mumbai  14/03/2010  ...  HDPK Dharmasena  S Ravi  Nitin Menon\n",
              "freq            NaN     101           2  ...               73      57           10\n",
              "mean    2013.444444     NaN         NaN  ...              NaN     NaN          NaN\n",
              "std        3.366895     NaN         NaN  ...              NaN     NaN          NaN\n",
              "min     2008.000000     NaN         NaN  ...              NaN     NaN          NaN\n",
              "25%     2011.000000     NaN         NaN  ...              NaN     NaN          NaN\n",
              "50%     2013.000000     NaN         NaN  ...              NaN     NaN          NaN\n",
              "75%     2016.000000     NaN         NaN  ...              NaN     NaN          NaN\n",
              "max     2019.000000     NaN         NaN  ...              NaN     NaN          NaN\n",
              "\n",
              "[11 rows x 17 columns]"
            ]
          },
          "metadata": {
            "tags": []
          },
          "execution_count": 50
        }
      ]
    },
    {
      "cell_type": "code",
      "metadata": {
        "colab": {
          "base_uri": "https://localhost:8080/",
          "height": 476
        },
        "id": "wyloqmOFt9SX",
        "outputId": "53528067-8367-4b5a-9d4e-0032d53d6fad"
      },
      "source": [
        "df.head()"
      ],
      "execution_count": null,
      "outputs": [
        {
          "output_type": "execute_result",
          "data": {
            "text/html": [
              "<div>\n",
              "<style scoped>\n",
              "    .dataframe tbody tr th:only-of-type {\n",
              "        vertical-align: middle;\n",
              "    }\n",
              "\n",
              "    .dataframe tbody tr th {\n",
              "        vertical-align: top;\n",
              "    }\n",
              "\n",
              "    .dataframe thead th {\n",
              "        text-align: right;\n",
              "    }\n",
              "</style>\n",
              "<table border=\"1\" class=\"dataframe\">\n",
              "  <thead>\n",
              "    <tr style=\"text-align: right;\">\n",
              "      <th></th>\n",
              "      <th>season</th>\n",
              "      <th>city</th>\n",
              "      <th>date</th>\n",
              "      <th>team1</th>\n",
              "      <th>team2</th>\n",
              "      <th>toss_winner</th>\n",
              "      <th>toss_decision</th>\n",
              "      <th>result</th>\n",
              "      <th>dl_applied</th>\n",
              "      <th>winner</th>\n",
              "      <th>win_by_runs</th>\n",
              "      <th>win_by_wickets</th>\n",
              "      <th>player_of_match</th>\n",
              "      <th>venue</th>\n",
              "      <th>umpire1</th>\n",
              "      <th>umpire2</th>\n",
              "      <th>umpire3</th>\n",
              "    </tr>\n",
              "    <tr>\n",
              "      <th>id</th>\n",
              "      <th></th>\n",
              "      <th></th>\n",
              "      <th></th>\n",
              "      <th></th>\n",
              "      <th></th>\n",
              "      <th></th>\n",
              "      <th></th>\n",
              "      <th></th>\n",
              "      <th></th>\n",
              "      <th></th>\n",
              "      <th></th>\n",
              "      <th></th>\n",
              "      <th></th>\n",
              "      <th></th>\n",
              "      <th></th>\n",
              "      <th></th>\n",
              "      <th></th>\n",
              "    </tr>\n",
              "  </thead>\n",
              "  <tbody>\n",
              "    <tr>\n",
              "      <th>1</th>\n",
              "      <td>2017</td>\n",
              "      <td>Hyderabad</td>\n",
              "      <td>05/04/2017</td>\n",
              "      <td>Sunrisers Hyderabad</td>\n",
              "      <td>Royal Challengers Bangalore</td>\n",
              "      <td>Royal Challengers Bangalore</td>\n",
              "      <td>field</td>\n",
              "      <td>normal</td>\n",
              "      <td>0</td>\n",
              "      <td>Sunrisers Hyderabad</td>\n",
              "      <td>35</td>\n",
              "      <td>0</td>\n",
              "      <td>Yuvraj Singh</td>\n",
              "      <td>Rajiv Gandhi International Stadium, Uppal</td>\n",
              "      <td>AY Dandekar</td>\n",
              "      <td>NJ Llong</td>\n",
              "      <td>NaN</td>\n",
              "    </tr>\n",
              "    <tr>\n",
              "      <th>2</th>\n",
              "      <td>2017</td>\n",
              "      <td>Pune</td>\n",
              "      <td>06/04/2017</td>\n",
              "      <td>Mumbai Indians</td>\n",
              "      <td>Rising Pune Supergiant</td>\n",
              "      <td>Rising Pune Supergiant</td>\n",
              "      <td>field</td>\n",
              "      <td>normal</td>\n",
              "      <td>0</td>\n",
              "      <td>Rising Pune Supergiant</td>\n",
              "      <td>0</td>\n",
              "      <td>7</td>\n",
              "      <td>SPD Smith</td>\n",
              "      <td>Maharashtra Cricket Association Stadium</td>\n",
              "      <td>A Nand Kishore</td>\n",
              "      <td>S Ravi</td>\n",
              "      <td>NaN</td>\n",
              "    </tr>\n",
              "    <tr>\n",
              "      <th>3</th>\n",
              "      <td>2017</td>\n",
              "      <td>Rajkot</td>\n",
              "      <td>07/04/2017</td>\n",
              "      <td>Gujarat Lions</td>\n",
              "      <td>Kolkata Knight Riders</td>\n",
              "      <td>Kolkata Knight Riders</td>\n",
              "      <td>field</td>\n",
              "      <td>normal</td>\n",
              "      <td>0</td>\n",
              "      <td>Kolkata Knight Riders</td>\n",
              "      <td>0</td>\n",
              "      <td>10</td>\n",
              "      <td>CA Lynn</td>\n",
              "      <td>Saurashtra Cricket Association Stadium</td>\n",
              "      <td>Nitin Menon</td>\n",
              "      <td>CK Nandan</td>\n",
              "      <td>NaN</td>\n",
              "    </tr>\n",
              "    <tr>\n",
              "      <th>4</th>\n",
              "      <td>2017</td>\n",
              "      <td>Indore</td>\n",
              "      <td>08/04/2017</td>\n",
              "      <td>Rising Pune Supergiant</td>\n",
              "      <td>Kings XI Punjab</td>\n",
              "      <td>Kings XI Punjab</td>\n",
              "      <td>field</td>\n",
              "      <td>normal</td>\n",
              "      <td>0</td>\n",
              "      <td>Kings XI Punjab</td>\n",
              "      <td>0</td>\n",
              "      <td>6</td>\n",
              "      <td>GJ Maxwell</td>\n",
              "      <td>Holkar Cricket Stadium</td>\n",
              "      <td>AK Chaudhary</td>\n",
              "      <td>C Shamshuddin</td>\n",
              "      <td>NaN</td>\n",
              "    </tr>\n",
              "    <tr>\n",
              "      <th>5</th>\n",
              "      <td>2017</td>\n",
              "      <td>Bangalore</td>\n",
              "      <td>08/04/2017</td>\n",
              "      <td>Royal Challengers Bangalore</td>\n",
              "      <td>Delhi Daredevils</td>\n",
              "      <td>Royal Challengers Bangalore</td>\n",
              "      <td>bat</td>\n",
              "      <td>normal</td>\n",
              "      <td>0</td>\n",
              "      <td>Royal Challengers Bangalore</td>\n",
              "      <td>15</td>\n",
              "      <td>0</td>\n",
              "      <td>KM Jadhav</td>\n",
              "      <td>M Chinnaswamy Stadium</td>\n",
              "      <td>NaN</td>\n",
              "      <td>NaN</td>\n",
              "      <td>NaN</td>\n",
              "    </tr>\n",
              "  </tbody>\n",
              "</table>\n",
              "</div>"
            ],
            "text/plain": [
              "    season       city        date  ...         umpire1        umpire2 umpire3\n",
              "id                                 ...                                       \n",
              "1     2017  Hyderabad  05/04/2017  ...     AY Dandekar       NJ Llong     NaN\n",
              "2     2017       Pune  06/04/2017  ...  A Nand Kishore         S Ravi     NaN\n",
              "3     2017     Rajkot  07/04/2017  ...     Nitin Menon      CK Nandan     NaN\n",
              "4     2017     Indore  08/04/2017  ...    AK Chaudhary  C Shamshuddin     NaN\n",
              "5     2017  Bangalore  08/04/2017  ...             NaN            NaN     NaN\n",
              "\n",
              "[5 rows x 17 columns]"
            ]
          },
          "metadata": {
            "tags": []
          },
          "execution_count": 51
        }
      ]
    },
    {
      "cell_type": "code",
      "metadata": {
        "colab": {
          "base_uri": "https://localhost:8080/",
          "height": 297
        },
        "id": "0jCCSr13uGXy",
        "outputId": "275e6c70-46c4-4fb3-cc63-8207cf741195"
      },
      "source": [
        "df[df.city.isnull()][['city','venue']]"
      ],
      "execution_count": null,
      "outputs": [
        {
          "output_type": "execute_result",
          "data": {
            "text/html": [
              "<div>\n",
              "<style scoped>\n",
              "    .dataframe tbody tr th:only-of-type {\n",
              "        vertical-align: middle;\n",
              "    }\n",
              "\n",
              "    .dataframe tbody tr th {\n",
              "        vertical-align: top;\n",
              "    }\n",
              "\n",
              "    .dataframe thead th {\n",
              "        text-align: right;\n",
              "    }\n",
              "</style>\n",
              "<table border=\"1\" class=\"dataframe\">\n",
              "  <thead>\n",
              "    <tr style=\"text-align: right;\">\n",
              "      <th></th>\n",
              "      <th>city</th>\n",
              "      <th>venue</th>\n",
              "    </tr>\n",
              "    <tr>\n",
              "      <th>id</th>\n",
              "      <th></th>\n",
              "      <th></th>\n",
              "    </tr>\n",
              "  </thead>\n",
              "  <tbody>\n",
              "    <tr>\n",
              "      <th>462</th>\n",
              "      <td>NaN</td>\n",
              "      <td>Dubai International Cricket Stadium</td>\n",
              "    </tr>\n",
              "    <tr>\n",
              "      <th>463</th>\n",
              "      <td>NaN</td>\n",
              "      <td>Dubai International Cricket Stadium</td>\n",
              "    </tr>\n",
              "    <tr>\n",
              "      <th>467</th>\n",
              "      <td>NaN</td>\n",
              "      <td>Dubai International Cricket Stadium</td>\n",
              "    </tr>\n",
              "    <tr>\n",
              "      <th>469</th>\n",
              "      <td>NaN</td>\n",
              "      <td>Dubai International Cricket Stadium</td>\n",
              "    </tr>\n",
              "    <tr>\n",
              "      <th>470</th>\n",
              "      <td>NaN</td>\n",
              "      <td>Dubai International Cricket Stadium</td>\n",
              "    </tr>\n",
              "    <tr>\n",
              "      <th>475</th>\n",
              "      <td>NaN</td>\n",
              "      <td>Dubai International Cricket Stadium</td>\n",
              "    </tr>\n",
              "    <tr>\n",
              "      <th>477</th>\n",
              "      <td>NaN</td>\n",
              "      <td>Dubai International Cricket Stadium</td>\n",
              "    </tr>\n",
              "  </tbody>\n",
              "</table>\n",
              "</div>"
            ],
            "text/plain": [
              "    city                                venue\n",
              "id                                           \n",
              "462  NaN  Dubai International Cricket Stadium\n",
              "463  NaN  Dubai International Cricket Stadium\n",
              "467  NaN  Dubai International Cricket Stadium\n",
              "469  NaN  Dubai International Cricket Stadium\n",
              "470  NaN  Dubai International Cricket Stadium\n",
              "475  NaN  Dubai International Cricket Stadium\n",
              "477  NaN  Dubai International Cricket Stadium"
            ]
          },
          "metadata": {
            "tags": []
          },
          "execution_count": 52
        }
      ]
    },
    {
      "cell_type": "code",
      "metadata": {
        "id": "V-X4l5j0uTCv"
      },
      "source": [
        "#Filling missing values\n",
        "df.city = df.city.fillna('Dubai')"
      ],
      "execution_count": null,
      "outputs": []
    },
    {
      "cell_type": "code",
      "metadata": {
        "colab": {
          "base_uri": "https://localhost:8080/",
          "height": 213
        },
        "id": "2jwZaPk3uY_R",
        "outputId": "987f50e6-dab9-4007-a623-fa4192337573"
      },
      "source": [
        "df[(df.umpire1.isnull()) | (df.umpire2.isnull())]"
      ],
      "execution_count": null,
      "outputs": [
        {
          "output_type": "execute_result",
          "data": {
            "text/html": [
              "<div>\n",
              "<style scoped>\n",
              "    .dataframe tbody tr th:only-of-type {\n",
              "        vertical-align: middle;\n",
              "    }\n",
              "\n",
              "    .dataframe tbody tr th {\n",
              "        vertical-align: top;\n",
              "    }\n",
              "\n",
              "    .dataframe thead th {\n",
              "        text-align: right;\n",
              "    }\n",
              "</style>\n",
              "<table border=\"1\" class=\"dataframe\">\n",
              "  <thead>\n",
              "    <tr style=\"text-align: right;\">\n",
              "      <th></th>\n",
              "      <th>season</th>\n",
              "      <th>city</th>\n",
              "      <th>date</th>\n",
              "      <th>team1</th>\n",
              "      <th>team2</th>\n",
              "      <th>toss_winner</th>\n",
              "      <th>toss_decision</th>\n",
              "      <th>result</th>\n",
              "      <th>dl_applied</th>\n",
              "      <th>winner</th>\n",
              "      <th>win_by_runs</th>\n",
              "      <th>win_by_wickets</th>\n",
              "      <th>player_of_match</th>\n",
              "      <th>venue</th>\n",
              "      <th>umpire1</th>\n",
              "      <th>umpire2</th>\n",
              "      <th>umpire3</th>\n",
              "    </tr>\n",
              "    <tr>\n",
              "      <th>id</th>\n",
              "      <th></th>\n",
              "      <th></th>\n",
              "      <th></th>\n",
              "      <th></th>\n",
              "      <th></th>\n",
              "      <th></th>\n",
              "      <th></th>\n",
              "      <th></th>\n",
              "      <th></th>\n",
              "      <th></th>\n",
              "      <th></th>\n",
              "      <th></th>\n",
              "      <th></th>\n",
              "      <th></th>\n",
              "      <th></th>\n",
              "      <th></th>\n",
              "      <th></th>\n",
              "    </tr>\n",
              "  </thead>\n",
              "  <tbody>\n",
              "    <tr>\n",
              "      <th>5</th>\n",
              "      <td>2017</td>\n",
              "      <td>Bangalore</td>\n",
              "      <td>08/04/2017</td>\n",
              "      <td>Royal Challengers Bangalore</td>\n",
              "      <td>Delhi Daredevils</td>\n",
              "      <td>Royal Challengers Bangalore</td>\n",
              "      <td>bat</td>\n",
              "      <td>normal</td>\n",
              "      <td>0</td>\n",
              "      <td>Royal Challengers Bangalore</td>\n",
              "      <td>15</td>\n",
              "      <td>0</td>\n",
              "      <td>KM Jadhav</td>\n",
              "      <td>M Chinnaswamy Stadium</td>\n",
              "      <td>NaN</td>\n",
              "      <td>NaN</td>\n",
              "      <td>NaN</td>\n",
              "    </tr>\n",
              "    <tr>\n",
              "      <th>11413</th>\n",
              "      <td>2019</td>\n",
              "      <td>Visakhapatnam</td>\n",
              "      <td>08/05/2019</td>\n",
              "      <td>Sunrisers Hyderabad</td>\n",
              "      <td>Delhi Capitals</td>\n",
              "      <td>Delhi Capitals</td>\n",
              "      <td>field</td>\n",
              "      <td>normal</td>\n",
              "      <td>0</td>\n",
              "      <td>Delhi Capitals</td>\n",
              "      <td>0</td>\n",
              "      <td>2</td>\n",
              "      <td>RR Pant</td>\n",
              "      <td>ACA-VDCA Stadium</td>\n",
              "      <td>NaN</td>\n",
              "      <td>NaN</td>\n",
              "      <td>NaN</td>\n",
              "    </tr>\n",
              "  </tbody>\n",
              "</table>\n",
              "</div>"
            ],
            "text/plain": [
              "       season           city        date  ... umpire1 umpire2 umpire3\n",
              "id                                        ...                        \n",
              "5        2017      Bangalore  08/04/2017  ...     NaN     NaN     NaN\n",
              "11413    2019  Visakhapatnam  08/05/2019  ...     NaN     NaN     NaN\n",
              "\n",
              "[2 rows x 17 columns]"
            ]
          },
          "metadata": {
            "tags": []
          },
          "execution_count": 54
        }
      ]
    },
    {
      "cell_type": "code",
      "metadata": {
        "id": "mLEWntj7uysP"
      },
      "source": [
        "df = df.drop('umpire3',axis = 1)"
      ],
      "execution_count": null,
      "outputs": []
    },
    {
      "cell_type": "code",
      "metadata": {
        "colab": {
          "base_uri": "https://localhost:8080/",
          "height": 1000
        },
        "id": "p4A26Afqu6Cy",
        "outputId": "cad950fd-b7ba-4c70-8727-8f13024b0827"
      },
      "source": [
        "#City has 33 distinct values while we have 35 venues\n",
        "#Let's find out venues grouped by cities to see which cities have multiple values\n",
        "\n",
        "city_venue = df.groupby(['city','venue']).count()['season']\n",
        "city_venue_df = pd.DataFrame(city_venue)\n",
        "city_venue_df"
      ],
      "execution_count": null,
      "outputs": [
        {
          "output_type": "execute_result",
          "data": {
            "text/html": [
              "<div>\n",
              "<style scoped>\n",
              "    .dataframe tbody tr th:only-of-type {\n",
              "        vertical-align: middle;\n",
              "    }\n",
              "\n",
              "    .dataframe tbody tr th {\n",
              "        vertical-align: top;\n",
              "    }\n",
              "\n",
              "    .dataframe thead th {\n",
              "        text-align: right;\n",
              "    }\n",
              "</style>\n",
              "<table border=\"1\" class=\"dataframe\">\n",
              "  <thead>\n",
              "    <tr style=\"text-align: right;\">\n",
              "      <th></th>\n",
              "      <th></th>\n",
              "      <th>season</th>\n",
              "    </tr>\n",
              "    <tr>\n",
              "      <th>city</th>\n",
              "      <th>venue</th>\n",
              "      <th></th>\n",
              "    </tr>\n",
              "  </thead>\n",
              "  <tbody>\n",
              "    <tr>\n",
              "      <th>Abu Dhabi</th>\n",
              "      <th>Sheikh Zayed Stadium</th>\n",
              "      <td>7</td>\n",
              "    </tr>\n",
              "    <tr>\n",
              "      <th>Ahmedabad</th>\n",
              "      <th>Sardar Patel Stadium, Motera</th>\n",
              "      <td>12</td>\n",
              "    </tr>\n",
              "    <tr>\n",
              "      <th>Bangalore</th>\n",
              "      <th>M Chinnaswamy Stadium</th>\n",
              "      <td>66</td>\n",
              "    </tr>\n",
              "    <tr>\n",
              "      <th rowspan=\"2\" valign=\"top\">Bengaluru</th>\n",
              "      <th>M Chinnaswamy Stadium</th>\n",
              "      <td>7</td>\n",
              "    </tr>\n",
              "    <tr>\n",
              "      <th>M. Chinnaswamy Stadium</th>\n",
              "      <td>7</td>\n",
              "    </tr>\n",
              "    <tr>\n",
              "      <th>Bloemfontein</th>\n",
              "      <th>OUTsurance Oval</th>\n",
              "      <td>2</td>\n",
              "    </tr>\n",
              "    <tr>\n",
              "      <th>Cape Town</th>\n",
              "      <th>Newlands</th>\n",
              "      <td>7</td>\n",
              "    </tr>\n",
              "    <tr>\n",
              "      <th>Centurion</th>\n",
              "      <th>SuperSport Park</th>\n",
              "      <td>12</td>\n",
              "    </tr>\n",
              "    <tr>\n",
              "      <th rowspan=\"2\" valign=\"top\">Chandigarh</th>\n",
              "      <th>Punjab Cricket Association IS Bindra Stadium, Mohali</th>\n",
              "      <td>11</td>\n",
              "    </tr>\n",
              "    <tr>\n",
              "      <th>Punjab Cricket Association Stadium, Mohali</th>\n",
              "      <td>35</td>\n",
              "    </tr>\n",
              "    <tr>\n",
              "      <th rowspan=\"2\" valign=\"top\">Chennai</th>\n",
              "      <th>M. A. Chidambaram Stadium</th>\n",
              "      <td>8</td>\n",
              "    </tr>\n",
              "    <tr>\n",
              "      <th>MA Chidambaram Stadium, Chepauk</th>\n",
              "      <td>49</td>\n",
              "    </tr>\n",
              "    <tr>\n",
              "      <th>Cuttack</th>\n",
              "      <th>Barabati Stadium</th>\n",
              "      <td>7</td>\n",
              "    </tr>\n",
              "    <tr>\n",
              "      <th rowspan=\"2\" valign=\"top\">Delhi</th>\n",
              "      <th>Feroz Shah Kotla</th>\n",
              "      <td>67</td>\n",
              "    </tr>\n",
              "    <tr>\n",
              "      <th>Feroz Shah Kotla Ground</th>\n",
              "      <td>7</td>\n",
              "    </tr>\n",
              "    <tr>\n",
              "      <th>Dharamsala</th>\n",
              "      <th>Himachal Pradesh Cricket Association Stadium</th>\n",
              "      <td>9</td>\n",
              "    </tr>\n",
              "    <tr>\n",
              "      <th>Dubai</th>\n",
              "      <th>Dubai International Cricket Stadium</th>\n",
              "      <td>7</td>\n",
              "    </tr>\n",
              "    <tr>\n",
              "      <th>Durban</th>\n",
              "      <th>Kingsmead</th>\n",
              "      <td>15</td>\n",
              "    </tr>\n",
              "    <tr>\n",
              "      <th>East London</th>\n",
              "      <th>Buffalo Park</th>\n",
              "      <td>3</td>\n",
              "    </tr>\n",
              "    <tr>\n",
              "      <th rowspan=\"2\" valign=\"top\">Hyderabad</th>\n",
              "      <th>Rajiv Gandhi International Stadium, Uppal</th>\n",
              "      <td>56</td>\n",
              "    </tr>\n",
              "    <tr>\n",
              "      <th>Rajiv Gandhi Intl. Cricket Stadium</th>\n",
              "      <td>8</td>\n",
              "    </tr>\n",
              "    <tr>\n",
              "      <th>Indore</th>\n",
              "      <th>Holkar Cricket Stadium</th>\n",
              "      <td>9</td>\n",
              "    </tr>\n",
              "    <tr>\n",
              "      <th>Jaipur</th>\n",
              "      <th>Sawai Mansingh Stadium</th>\n",
              "      <td>47</td>\n",
              "    </tr>\n",
              "    <tr>\n",
              "      <th>Johannesburg</th>\n",
              "      <th>New Wanderers Stadium</th>\n",
              "      <td>8</td>\n",
              "    </tr>\n",
              "    <tr>\n",
              "      <th>Kanpur</th>\n",
              "      <th>Green Park</th>\n",
              "      <td>4</td>\n",
              "    </tr>\n",
              "    <tr>\n",
              "      <th>Kimberley</th>\n",
              "      <th>De Beers Diamond Oval</th>\n",
              "      <td>3</td>\n",
              "    </tr>\n",
              "    <tr>\n",
              "      <th>Kochi</th>\n",
              "      <th>Nehru Stadium</th>\n",
              "      <td>5</td>\n",
              "    </tr>\n",
              "    <tr>\n",
              "      <th>Kolkata</th>\n",
              "      <th>Eden Gardens</th>\n",
              "      <td>77</td>\n",
              "    </tr>\n",
              "    <tr>\n",
              "      <th rowspan=\"2\" valign=\"top\">Mohali</th>\n",
              "      <th>IS Bindra Stadium</th>\n",
              "      <td>7</td>\n",
              "    </tr>\n",
              "    <tr>\n",
              "      <th>Punjab Cricket Association IS Bindra Stadium, Mohali</th>\n",
              "      <td>3</td>\n",
              "    </tr>\n",
              "    <tr>\n",
              "      <th rowspan=\"3\" valign=\"top\">Mumbai</th>\n",
              "      <th>Brabourne Stadium</th>\n",
              "      <td>11</td>\n",
              "    </tr>\n",
              "    <tr>\n",
              "      <th>Dr DY Patil Sports Academy</th>\n",
              "      <td>17</td>\n",
              "    </tr>\n",
              "    <tr>\n",
              "      <th>Wankhede Stadium</th>\n",
              "      <td>73</td>\n",
              "    </tr>\n",
              "    <tr>\n",
              "      <th>Nagpur</th>\n",
              "      <th>Vidarbha Cricket Association Stadium, Jamtha</th>\n",
              "      <td>3</td>\n",
              "    </tr>\n",
              "    <tr>\n",
              "      <th>Port Elizabeth</th>\n",
              "      <th>St George's Park</th>\n",
              "      <td>7</td>\n",
              "    </tr>\n",
              "    <tr>\n",
              "      <th rowspan=\"2\" valign=\"top\">Pune</th>\n",
              "      <th>Maharashtra Cricket Association Stadium</th>\n",
              "      <td>21</td>\n",
              "    </tr>\n",
              "    <tr>\n",
              "      <th>Subrata Roy Sahara Stadium</th>\n",
              "      <td>17</td>\n",
              "    </tr>\n",
              "    <tr>\n",
              "      <th>Raipur</th>\n",
              "      <th>Shaheed Veer Narayan Singh International Stadium</th>\n",
              "      <td>6</td>\n",
              "    </tr>\n",
              "    <tr>\n",
              "      <th>Rajkot</th>\n",
              "      <th>Saurashtra Cricket Association Stadium</th>\n",
              "      <td>10</td>\n",
              "    </tr>\n",
              "    <tr>\n",
              "      <th>Ranchi</th>\n",
              "      <th>JSCA International Stadium Complex</th>\n",
              "      <td>7</td>\n",
              "    </tr>\n",
              "    <tr>\n",
              "      <th>Sharjah</th>\n",
              "      <th>Sharjah Cricket Stadium</th>\n",
              "      <td>6</td>\n",
              "    </tr>\n",
              "    <tr>\n",
              "      <th rowspan=\"2\" valign=\"top\">Visakhapatnam</th>\n",
              "      <th>ACA-VDCA Stadium</th>\n",
              "      <td>2</td>\n",
              "    </tr>\n",
              "    <tr>\n",
              "      <th>Dr. Y.S. Rajasekhara Reddy ACA-VDCA Cricket Stadium</th>\n",
              "      <td>11</td>\n",
              "    </tr>\n",
              "  </tbody>\n",
              "</table>\n",
              "</div>"
            ],
            "text/plain": [
              "                                                                   season\n",
              "city           venue                                                     \n",
              "Abu Dhabi      Sheikh Zayed Stadium                                     7\n",
              "Ahmedabad      Sardar Patel Stadium, Motera                            12\n",
              "Bangalore      M Chinnaswamy Stadium                                   66\n",
              "Bengaluru      M Chinnaswamy Stadium                                    7\n",
              "               M. Chinnaswamy Stadium                                   7\n",
              "Bloemfontein   OUTsurance Oval                                          2\n",
              "Cape Town      Newlands                                                 7\n",
              "Centurion      SuperSport Park                                         12\n",
              "Chandigarh     Punjab Cricket Association IS Bindra Stadium, M...      11\n",
              "               Punjab Cricket Association Stadium, Mohali              35\n",
              "Chennai        M. A. Chidambaram Stadium                                8\n",
              "               MA Chidambaram Stadium, Chepauk                         49\n",
              "Cuttack        Barabati Stadium                                         7\n",
              "Delhi          Feroz Shah Kotla                                        67\n",
              "               Feroz Shah Kotla Ground                                  7\n",
              "Dharamsala     Himachal Pradesh Cricket Association Stadium             9\n",
              "Dubai          Dubai International Cricket Stadium                      7\n",
              "Durban         Kingsmead                                               15\n",
              "East London    Buffalo Park                                             3\n",
              "Hyderabad      Rajiv Gandhi International Stadium, Uppal               56\n",
              "               Rajiv Gandhi Intl. Cricket Stadium                       8\n",
              "Indore         Holkar Cricket Stadium                                   9\n",
              "Jaipur         Sawai Mansingh Stadium                                  47\n",
              "Johannesburg   New Wanderers Stadium                                    8\n",
              "Kanpur         Green Park                                               4\n",
              "Kimberley      De Beers Diamond Oval                                    3\n",
              "Kochi          Nehru Stadium                                            5\n",
              "Kolkata        Eden Gardens                                            77\n",
              "Mohali         IS Bindra Stadium                                        7\n",
              "               Punjab Cricket Association IS Bindra Stadium, M...       3\n",
              "Mumbai         Brabourne Stadium                                       11\n",
              "               Dr DY Patil Sports Academy                              17\n",
              "               Wankhede Stadium                                        73\n",
              "Nagpur         Vidarbha Cricket Association Stadium, Jamtha             3\n",
              "Port Elizabeth St George's Park                                         7\n",
              "Pune           Maharashtra Cricket Association Stadium                 21\n",
              "               Subrata Roy Sahara Stadium                              17\n",
              "Raipur         Shaheed Veer Narayan Singh International Stadium         6\n",
              "Rajkot         Saurashtra Cricket Association Stadium                  10\n",
              "Ranchi         JSCA International Stadium Complex                       7\n",
              "Sharjah        Sharjah Cricket Stadium                                  6\n",
              "Visakhapatnam  ACA-VDCA Stadium                                         2\n",
              "               Dr. Y.S. Rajasekhara Reddy ACA-VDCA Cricket Sta...      11"
            ]
          },
          "metadata": {
            "tags": []
          },
          "execution_count": 58
        }
      ]
    },
    {
      "cell_type": "markdown",
      "metadata": {
        "id": "6xrX5VeJwYIJ"
      },
      "source": [
        "Bengaluru and Bangalore both are in the data when they are same.So we need to keep one of them.\n",
        "\n",
        "Chandigarh and Mohali are same and there is just one stadium Punjab Cricket Assoiciation Is Bindra Stadium,Mohali.\n",
        "\n",
        "Mumbai has 3 stadium/venues used for IPL.\n",
        "\n",
        "Pune has 2 venues for IPL"
      ]
    },
    {
      "cell_type": "code",
      "metadata": {
        "colab": {
          "base_uri": "https://localhost:8080/",
          "height": 465
        },
        "id": "xBSa_I3oxEhJ",
        "outputId": "b0f490c4-1ae0-42ba-b66c-ee513b5f597e"
      },
      "source": [
        "# Number of matches played in each season\n",
        "plt.figure(figsize=(15,5))\n",
        "sns.countplot('season',data = df)\n",
        "plt.title('Number of matches played each season',fontsize = 18,fontweight=\"bold\")\n",
        "plt.ylabel(\"Count\",size = 25)\n",
        "plt.xlabel(\"Season\",size = 25)\n",
        "plt.xticks( size = 20)\n",
        "plt.yticks( size = 20)"
      ],
      "execution_count": null,
      "outputs": [
        {
          "output_type": "stream",
          "text": [
            "/usr/local/lib/python3.7/dist-packages/seaborn/_decorators.py:43: FutureWarning: Pass the following variable as a keyword arg: x. From version 0.12, the only valid positional argument will be `data`, and passing other arguments without an explicit keyword will result in an error or misinterpretation.\n",
            "  FutureWarning\n"
          ],
          "name": "stderr"
        },
        {
          "output_type": "execute_result",
          "data": {
            "text/plain": [
              "(array([ 0., 10., 20., 30., 40., 50., 60., 70., 80.]),\n",
              " <a list of 9 Text major ticklabel objects>)"
            ]
          },
          "metadata": {
            "tags": []
          },
          "execution_count": 59
        },
        {
          "output_type": "display_data",
          "data": {
            "image/png": "[encoded data removed]",
            "text/plain": [
              "<Figure size 1080x360 with 1 Axes>"
            ]
          },
          "metadata": {
            "tags": [],
            "needs_background": "light"
          }
        }
      ]
    },
    {
      "cell_type": "code",
      "metadata": {
        "colab": {
          "base_uri": "https://localhost:8080/",
          "height": 543
        },
        "id": "fCx1WwSBxvbO",
        "outputId": "efedd73c-0906-43f5-bd4a-16030676092e"
      },
      "source": [
        "# Venue which has hosted most number of IPL\n",
        "df.venue.value_counts().sort_values(ascending=True).tail(10).plot(kind='barh',figsize=(12,8))\n",
        "plt.title(\"Venue which has hosted most number of IPL matches\",fontsize = 18,fontweight = \"bold\")\n",
        "plt.ylabel(\"Venue\",size = 20)\n",
        "plt.xlabel(\"Frequency\",size = 20)"
      ],
      "execution_count": null,
      "outputs": [
        {
          "output_type": "execute_result",
          "data": {
            "text/plain": [
              "Text(0.5, 0, 'Frequency')"
            ]
          },
          "metadata": {
            "tags": []
          },
          "execution_count": 64
        },
        {
          "output_type": "display_data",
          "data": {
            "image/png": "[encoded data removed]",
            "text/plain": [
              "<Figure size 864x576 with 1 Axes>"
            ]
          },
          "metadata": {
            "tags": [],
            "needs_background": "light"
          }
        }
      ]
    },
    {
      "cell_type": "code",
      "metadata": {
        "colab": {
          "base_uri": "https://localhost:8080/",
          "height": 765
        },
        "id": "b8GX2Zkrw7N2",
        "outputId": "e6440dc0-2f0b-4bdb-e5f6-ea455b3cb1fc"
      },
      "source": [
        "plt.figure(figsize =(18,10))\n",
        "sns.countplot(x = 'winner',data = df,palette = 'cool')\n",
        "plt.title(\"Number of matches won by team\",fontsize = 20)\n",
        "plt.xticks(rotation = 90)\n",
        "plt.xlabel(\"Teams\",fontsize = 15)\n",
        "plt.ylabel(\"No of wins\",fontsize = 15)\n",
        "plt.show()"
      ],
      "execution_count": null,
      "outputs": [
        {
          "output_type": "display_data",
          "data": {
            "image/png": "[encoded data removed]",
            "text/plain": [
              "<Figure size 1296x720 with 1 Axes>"
            ]
          },
          "metadata": {
            "tags": [],
            "needs_background": "light"
          }
        }
      ]
    },
    {
      "cell_type": "code",
      "metadata": {
        "id": "dI-vk3QozmnB"
      },
      "source": [
        "# Creating a dataframe with season and winner columns\n",
        "winning_teams = df[['season','winner']]"
      ],
      "execution_count": null,
      "outputs": []
    },
    {
      "cell_type": "code",
      "metadata": {
        "id": "crzvfFb0zyTM"
      },
      "source": [
        "#Dictionaries to get winners to each season\n",
        "winners_team ={}\n",
        "for i in sorted(winning_teams.season.unique()):\n",
        "  winners_team[i] = winning_teams[winning_teams.season ==i]['winner'].tail(1).values[0]\n",
        "\n",
        "winners_of_IPL = pd.Series(winners_team)\n",
        "winners_of_IPL = pd.DataFrame(winners_of_IPL,columns =['team'])"
      ],
      "execution_count": null,
      "outputs": []
    },
    {
      "cell_type": "code",
      "metadata": {
        "colab": {
          "base_uri": "https://localhost:8080/",
          "height": 385
        },
        "id": "66pLNrmn0sKI",
        "outputId": "823b7cec-6be0-4af4-dd4a-dd390addec29"
      },
      "source": [
        "winners_of_IPL['team'].value_counts().plot(kind='barh',figsize=(15,5),color = 'yellow')\n",
        "plt.title(\"Winners of IPL across 11 seasons\",fontsize = 18,fontweight= \"bold\")\n",
        "plt.ylabel(\"Teams\",size = 20)\n",
        "plt.xlabel(\"Frequency\",size = 20)\n",
        "plt.xticks(size = 15)\n",
        "plt.yticks( size = 15)"
      ],
      "execution_count": null,
      "outputs": [
        {
          "output_type": "execute_result",
          "data": {
            "text/plain": [
              "(array([0, 1, 2, 3, 4, 5]), <a list of 6 Text major ticklabel objects>)"
            ]
          },
          "metadata": {
            "tags": []
          },
          "execution_count": 69
        },
        {
          "output_type": "display_data",
          "data": {
            "image/png": "[encoded data removed]",
            "text/plain": [
              "<Figure size 1080x360 with 1 Axes>"
            ]
          },
          "metadata": {
            "tags": [],
            "needs_background": "light"
          }
        }
      ]
    },
    {
      "cell_type": "code",
      "metadata": {
        "colab": {
          "base_uri": "https://localhost:8080/",
          "height": 421
        },
        "id": "9RFNiJk11Vt6",
        "outputId": "8111311a-d97d-4da6-afb5-7095d19de207"
      },
      "source": [
        "# We will print the winner season wise\n",
        "final_matches = df.drop_duplicates(subset=['season'],keep='last')\n",
        "\n",
        "final_matches[['season','winner']].reset_index(drop = True).sort_values('season')"
      ],
      "execution_count": null,
      "outputs": [
        {
          "output_type": "execute_result",
          "data": {
            "text/html": [
              "<div>\n",
              "<style scoped>\n",
              "    .dataframe tbody tr th:only-of-type {\n",
              "        vertical-align: middle;\n",
              "    }\n",
              "\n",
              "    .dataframe tbody tr th {\n",
              "        vertical-align: top;\n",
              "    }\n",
              "\n",
              "    .dataframe thead th {\n",
              "        text-align: right;\n",
              "    }\n",
              "</style>\n",
              "<table border=\"1\" class=\"dataframe\">\n",
              "  <thead>\n",
              "    <tr style=\"text-align: right;\">\n",
              "      <th></th>\n",
              "      <th>season</th>\n",
              "      <th>winner</th>\n",
              "    </tr>\n",
              "  </thead>\n",
              "  <tbody>\n",
              "    <tr>\n",
              "      <th>1</th>\n",
              "      <td>2008</td>\n",
              "      <td>Rajasthan Royals</td>\n",
              "    </tr>\n",
              "    <tr>\n",
              "      <th>2</th>\n",
              "      <td>2009</td>\n",
              "      <td>Deccan Chargers</td>\n",
              "    </tr>\n",
              "    <tr>\n",
              "      <th>3</th>\n",
              "      <td>2010</td>\n",
              "      <td>Chennai Super Kings</td>\n",
              "    </tr>\n",
              "    <tr>\n",
              "      <th>4</th>\n",
              "      <td>2011</td>\n",
              "      <td>Chennai Super Kings</td>\n",
              "    </tr>\n",
              "    <tr>\n",
              "      <th>5</th>\n",
              "      <td>2012</td>\n",
              "      <td>Kolkata Knight Riders</td>\n",
              "    </tr>\n",
              "    <tr>\n",
              "      <th>6</th>\n",
              "      <td>2013</td>\n",
              "      <td>Mumbai Indians</td>\n",
              "    </tr>\n",
              "    <tr>\n",
              "      <th>7</th>\n",
              "      <td>2014</td>\n",
              "      <td>Kolkata Knight Riders</td>\n",
              "    </tr>\n",
              "    <tr>\n",
              "      <th>8</th>\n",
              "      <td>2015</td>\n",
              "      <td>Mumbai Indians</td>\n",
              "    </tr>\n",
              "    <tr>\n",
              "      <th>9</th>\n",
              "      <td>2016</td>\n",
              "      <td>Sunrisers Hyderabad</td>\n",
              "    </tr>\n",
              "    <tr>\n",
              "      <th>0</th>\n",
              "      <td>2017</td>\n",
              "      <td>Mumbai Indians</td>\n",
              "    </tr>\n",
              "    <tr>\n",
              "      <th>10</th>\n",
              "      <td>2018</td>\n",
              "      <td>Chennai Super Kings</td>\n",
              "    </tr>\n",
              "    <tr>\n",
              "      <th>11</th>\n",
              "      <td>2019</td>\n",
              "      <td>Mumbai Indians</td>\n",
              "    </tr>\n",
              "  </tbody>\n",
              "</table>\n",
              "</div>"
            ],
            "text/plain": [
              "    season                 winner\n",
              "1     2008       Rajasthan Royals\n",
              "2     2009        Deccan Chargers\n",
              "3     2010    Chennai Super Kings\n",
              "4     2011    Chennai Super Kings\n",
              "5     2012  Kolkata Knight Riders\n",
              "6     2013         Mumbai Indians\n",
              "7     2014  Kolkata Knight Riders\n",
              "8     2015         Mumbai Indians\n",
              "9     2016    Sunrisers Hyderabad\n",
              "0     2017         Mumbai Indians\n",
              "10    2018    Chennai Super Kings\n",
              "11    2019         Mumbai Indians"
            ]
          },
          "metadata": {
            "tags": []
          },
          "execution_count": 87
        }
      ]
    },
    {
      "cell_type": "code",
      "metadata": {
        "colab": {
          "base_uri": "https://localhost:8080/",
          "height": 442
        },
        "id": "rlc7Xm0W3-Ip",
        "outputId": "695ae692-21d2-4319-cf38-e142eb7e09a7"
      },
      "source": [
        "#Those teeams choosed to bat or field first after winning toss\n",
        "df['toss_decision'].value_counts().plot(kind='pie',fontsize = 14,autopct = '%3.1f%%/',\n",
        "                                       figsize = (10,7),shadow = True,startangle =135,legend = True)\n",
        "plt.ylabel('Toss Decision')\n",
        "plt.xlabel('Decision taken by captain after winning toss')"
      ],
      "execution_count": null,
      "outputs": [
        {
          "output_type": "execute_result",
          "data": {
            "text/plain": [
              "Text(0.5, 0, 'Decision taken by captain after winning toss')"
            ]
          },
          "metadata": {
            "tags": []
          },
          "execution_count": 89
        },
        {
          "output_type": "display_data",
          "data": {
            "image/png": "[encoded data removed]",
            "text/plain": [
              "<Figure size 720x504 with 1 Axes>"
            ]
          },
          "metadata": {
            "tags": []
          }
        }
      ]
    },
    {
      "cell_type": "code",
      "metadata": {
        "colab": {
          "base_uri": "https://localhost:8080/",
          "height": 444
        },
        "id": "r84Usecl5KMV",
        "outputId": "7aa3b5d7-78ee-4f11-a4f2-7f314f8c5a2f"
      },
      "source": [
        "# How toss decision affects the match results?\n",
        "\n",
        "df['toss_win_game_win'] = np.where((df.toss_winner == df.winner),'Yes','No')\n",
        "plt.figure(figsize = (15,5))\n",
        "sns.countplot('toss_win_game_win',data = df,hue ='toss_decision')\n",
        "plt.title(\"How toss decision affect after match results\",fontsize = 18,fontweight = \"bold\")\n",
        "plt.xticks(size = 15)\n",
        "plt.yticks(size = 15)\n",
        "plt.xlabel(\"Winning Toss and Winning match\",fontsize = 25)\n",
        "plt.ylabel(\"Frequency\",fontsize = 25)"
      ],
      "execution_count": null,
      "outputs": [
        {
          "output_type": "stream",
          "text": [
            "/usr/local/lib/python3.7/dist-packages/seaborn/_decorators.py:43: FutureWarning: Pass the following variable as a keyword arg: x. From version 0.12, the only valid positional argument will be `data`, and passing other arguments without an explicit keyword will result in an error or misinterpretation.\n",
            "  FutureWarning\n"
          ],
          "name": "stderr"
        },
        {
          "output_type": "execute_result",
          "data": {
            "text/plain": [
              "Text(0, 0.5, 'Frequency')"
            ]
          },
          "metadata": {
            "tags": []
          },
          "execution_count": 91
        },
        {
          "output_type": "display_data",
          "data": {
            "image/png": "[encoded data removed]",
            "text/plain": [
              "<Figure size 1080x360 with 1 Axes>"
            ]
          },
          "metadata": {
            "tags": [],
            "needs_background": "light"
          }
        }
      ]
    },
    {
      "cell_type": "code",
      "metadata": {
        "colab": {
          "base_uri": "https://localhost:8080/",
          "height": 414
        },
        "id": "1C_hhORE6TRV",
        "outputId": "fed7f5c3-8ddd-441d-eb95-0f85cffcc0a9"
      },
      "source": [
        "# We will plot graph on number of matches won by Toss Result\n",
        "plt.figure(figsize = (15,5))\n",
        "sns.countplot('season',hue ='toss_decision',data = df,palette='afmhot')\n",
        "plt.title(\"Number of matches won by Toss Result\",fontsize = 20)\n",
        "plt.xlabel(\"Season\",fontsize = 15)\n",
        "plt.ylabel(\"Counts\",fontsize =15)\n",
        "plt.show()\n"
      ],
      "execution_count": null,
      "outputs": [
        {
          "output_type": "stream",
          "text": [
            "/usr/local/lib/python3.7/dist-packages/seaborn/_decorators.py:43: FutureWarning: Pass the following variable as a keyword arg: x. From version 0.12, the only valid positional argument will be `data`, and passing other arguments without an explicit keyword will result in an error or misinterpretation.\n",
            "  FutureWarning\n"
          ],
          "name": "stderr"
        },
        {
          "output_type": "display_data",
          "data": {
            "image/png": "[encoded data removed]",
            "text/plain": [
              "<Figure size 1080x360 with 1 Axes>"
            ]
          },
          "metadata": {
            "tags": [],
            "needs_background": "light"
          }
        }
      ]
    },
    {
      "cell_type": "code",
      "metadata": {
        "colab": {
          "base_uri": "https://localhost:8080/",
          "height": 472
        },
        "id": "-cvMB2267K52",
        "outputId": "36d64f94-30c6-482e-9e4c-22a487a318e5"
      },
      "source": [
        "# Let's plot the top 10 run getter do far in IPL\n",
        "merge.groupby('batsman')['batsman_runs'].sum().sort_values(ascending = False).head(10).plot(kind='bar',figsize=(15,5),color = 'green')\n",
        "plt.title(\"Top Run Getters of IPl\",fontsize = 20)\n",
        "plt.xlabel(\"Batsmen\",size = 25)\n",
        "plt.ylabel(\"Total Runs Scored\",size = 25)\n",
        "plt.xticks(size = 12)\n",
        "plt.yticks(size = 12)"
      ],
      "execution_count": null,
      "outputs": [
        {
          "output_type": "execute_result",
          "data": {
            "text/plain": [
              "(array([   0., 1000., 2000., 3000., 4000., 5000., 6000.]),\n",
              " <a list of 7 Text major ticklabel objects>)"
            ]
          },
          "metadata": {
            "tags": []
          },
          "execution_count": 95
        },
        {
          "output_type": "display_data",
          "data": {
            "image/png": "[encoded data removed]",
            "text/plain": [
              "<Figure size 1080x360 with 1 Axes>"
            ]
          },
          "metadata": {
            "tags": [],
            "needs_background": "light"
          }
        }
      ]
    },
    {
      "cell_type": "code",
      "metadata": {
        "colab": {
          "base_uri": "https://localhost:8080/",
          "height": 583
        },
        "id": "JrqeH3D35eYJ",
        "outputId": "690a142d-00d4-4c70-f70f-2d6d1a34185c"
      },
      "source": [
        "MoM = df['player_of_match'].value_counts()\n",
        "MoM.head(10).plot(kind ='bar',figsize =(12,7),fontsize = 15,color='cyan')\n",
        "plt.title(\"Top 10 players with most MoM awards\",fontsize = 18,fontweight ='bold')\n",
        "plt.ylabel(\"Frequency\",size = 25)\n",
        "plt.xlabel(\"Players\",size = 25)"
      ],
      "execution_count": null,
      "outputs": [
        {
          "output_type": "execute_result",
          "data": {
            "text/plain": [
              "Text(0.5, 0, 'Players')"
            ]
          },
          "metadata": {
            "tags": []
          },
          "execution_count": 97
        },
        {
          "output_type": "display_data",
          "data": {
            "image/png": "[encoded data removed]",
            "text/plain": [
              "<Figure size 864x504 with 1 Axes>"
            ]
          },
          "metadata": {
            "tags": [],
            "needs_background": "light"
          }
        }
      ]
    },
    {
      "cell_type": "code",
      "metadata": {
        "colab": {
          "base_uri": "https://localhost:8080/",
          "height": 625
        },
        "id": "f4WRyR9i9DPl",
        "outputId": "d005be00-7220-43ab-8432-146415c381bf"
      },
      "source": [
        "# Which batsman has been most consistent among top 10 run getters\n",
        "consistent_batsman = merge[merge.batsman.isin(['SK Raina','V Kohli','RG Sharma','G Gambhir',\n",
        "                                               'RV Uthappa','S Dhawan','CH Gayle','MS Dhoni',\n",
        "                                               'DA Warner','AB de Villiers'])][['batsman','season','total_runs']]\n",
        "consistent_batsman.groupby(['season','batsman'])['total_runs'].sum().unstack().plot(kind = 'box',figsize=(15,8),fontsize = 8,color = 'magenta') \n",
        "plt.title(\"Most Consistent batsman of IPl\",fontsize = 20,fontweight = \"bold\")\n",
        "plt.xlabel(\"Batsmen\",size = 25)\n",
        "plt.ylabel(\"Total Runs Scored each Season\",size =25)\n",
        "plt.xticks( size = 15)\n",
        "plt.yticks(size = 15)"
      ],
      "execution_count": null,
      "outputs": [
        {
          "output_type": "stream",
          "text": [
            "/usr/local/lib/python3.7/dist-packages/numpy/core/_asarray.py:83: VisibleDeprecationWarning: Creating an ndarray from ragged nested sequences (which is a list-or-tuple of lists-or-tuples-or ndarrays with different lengths or shapes) is deprecated. If you meant to do this, you must specify 'dtype=object' when creating the ndarray\n",
            "  return array(a, dtype, copy=False, order=order)\n"
          ],
          "name": "stderr"
        },
        {
          "output_type": "execute_result",
          "data": {
            "text/plain": [
              "(array([-200.,    0.,  200.,  400.,  600.,  800., 1000., 1200.]),\n",
              " <a list of 8 Text major ticklabel objects>)"
            ]
          },
          "metadata": {
            "tags": []
          },
          "execution_count": 106
        },
        {
          "output_type": "display_data",
          "data": {
            "image/png": "[encoded data removed]",
            "text/plain": [
              "<Figure size 1080x576 with 1 Axes>"
            ]
          },
          "metadata": {
            "tags": [],
            "needs_background": "light"
          }
        }
      ]
    },
    {
      "cell_type": "code",
      "metadata": {
        "colab": {
          "base_uri": "https://localhost:8080/",
          "height": 493
        },
        "id": "YgIJxTOC_s7_",
        "outputId": "f963d661-f278-4443-af05-c0ac49e83a24"
      },
      "source": [
        "# Which bowler have performed the best?\n",
        "merge.groupby('bowler')['player_dismissed'].count().sort_values(ascending = False).head(10).plot(kind='bar',figsize=(15,5),color = 'violet')\n",
        "plt.title(\"Top Wicket Takers of IPl\",fontsize = 20)\n",
        "plt.xlabel(\"Bowler\",size = 25)\n",
        "plt.ylabel(\"Total Wickets Taken\",size = 25)\n",
        "plt.xticks(size = 12)\n",
        "plt.yticks(size = 12)"
      ],
      "execution_count": null,
      "outputs": [
        {
          "output_type": "execute_result",
          "data": {
            "text/plain": [
              "(array([  0.,  25.,  50.,  75., 100., 125., 150., 175., 200.]),\n",
              " <a list of 9 Text major ticklabel objects>)"
            ]
          },
          "metadata": {
            "tags": []
          },
          "execution_count": 108
        },
        {
          "output_type": "display_data",
          "data": {
            "image/png": "[encoded data removed]",
            "text/plain": [
              "<Figure size 1080x360 with 1 Axes>"
            ]
          },
          "metadata": {
            "tags": [],
            "needs_background": "light"
          }
        }
      ]
    },
    {
      "cell_type": "code",
      "metadata": {
        "colab": {
          "base_uri": "https://localhost:8080/",
          "height": 359
        },
        "id": "iipntBi43_sy",
        "outputId": "fbebb896-aa14-4f5f-fcdb-f2814bb598b0"
      },
      "source": [
        "# We will consider players who have played 10 or more exams\n",
        "no_of_balls = pd.DataFrame(merge.groupby('batsman')['ball'].count()) #Total number of matches played by player\n",
        "runs = pd.DataFrame(merge.groupby('batsman')['batsman_runs'].sum()) #Total runs of each batsman\n",
        "seasons = pd.DataFrame(merge.groupby('batsman')['season'].nunique()) \n",
        "\n",
        "batsman_strike_rate = pd.DataFrame({'balls':no_of_balls['ball'],'run':runs['batsman_runs'],'season':seasons['season']})\n",
        "batsman_strike_rate.reset_index(inplace = True)\n",
        "\n",
        "batsman_strike_rate['strike_rate'] = batsman_strike_rate['run']/batsman_strike_rate['balls']*100\n",
        "highest_strike_rate= batsman_strike_rate[batsman_strike_rate.season.isin([10,11])][['season','batsman','balls','strike_rate']]\n",
        "\n",
        "highest_strike_rate.head(10)\n"
      ],
      "execution_count": null,
      "outputs": [
        {
          "output_type": "execute_result",
          "data": {
            "text/html": [
              "<div>\n",
              "<style scoped>\n",
              "    .dataframe tbody tr th:only-of-type {\n",
              "        vertical-align: middle;\n",
              "    }\n",
              "\n",
              "    .dataframe tbody tr th {\n",
              "        vertical-align: top;\n",
              "    }\n",
              "\n",
              "    .dataframe thead th {\n",
              "        text-align: right;\n",
              "    }\n",
              "</style>\n",
              "<table border=\"1\" class=\"dataframe\">\n",
              "  <thead>\n",
              "    <tr style=\"text-align: right;\">\n",
              "      <th></th>\n",
              "      <th>season</th>\n",
              "      <th>batsman</th>\n",
              "      <th>balls</th>\n",
              "      <th>strike_rate</th>\n",
              "    </tr>\n",
              "  </thead>\n",
              "  <tbody>\n",
              "    <tr>\n",
              "      <th>42</th>\n",
              "      <td>11</td>\n",
              "      <td>AM Rahane</td>\n",
              "      <td>3215</td>\n",
              "      <td>119.751166</td>\n",
              "    </tr>\n",
              "    <tr>\n",
              "      <th>53</th>\n",
              "      <td>10</td>\n",
              "      <td>AT Rayudu</td>\n",
              "      <td>2681</td>\n",
              "      <td>124.058187</td>\n",
              "    </tr>\n",
              "    <tr>\n",
              "      <th>72</th>\n",
              "      <td>11</td>\n",
              "      <td>BB McCullum</td>\n",
              "      <td>2272</td>\n",
              "      <td>127.332746</td>\n",
              "    </tr>\n",
              "    <tr>\n",
              "      <th>92</th>\n",
              "      <td>11</td>\n",
              "      <td>CH Gayle</td>\n",
              "      <td>3131</td>\n",
              "      <td>145.640370</td>\n",
              "    </tr>\n",
              "    <tr>\n",
              "      <th>112</th>\n",
              "      <td>10</td>\n",
              "      <td>DA Warner</td>\n",
              "      <td>3398</td>\n",
              "      <td>139.523249</td>\n",
              "    </tr>\n",
              "    <tr>\n",
              "      <th>118</th>\n",
              "      <td>11</td>\n",
              "      <td>DJ Bravo</td>\n",
              "      <td>1193</td>\n",
              "      <td>125.565801</td>\n",
              "    </tr>\n",
              "    <tr>\n",
              "      <th>135</th>\n",
              "      <td>10</td>\n",
              "      <td>DS Kulkarni</td>\n",
              "      <td>111</td>\n",
              "      <td>90.990991</td>\n",
              "    </tr>\n",
              "    <tr>\n",
              "      <th>147</th>\n",
              "      <td>11</td>\n",
              "      <td>G Gambhir</td>\n",
              "      <td>3524</td>\n",
              "      <td>119.835414</td>\n",
              "    </tr>\n",
              "    <tr>\n",
              "      <th>213</th>\n",
              "      <td>10</td>\n",
              "      <td>KA Pollard</td>\n",
              "      <td>1964</td>\n",
              "      <td>141.751527</td>\n",
              "    </tr>\n",
              "    <tr>\n",
              "      <th>262</th>\n",
              "      <td>10</td>\n",
              "      <td>M Vijay</td>\n",
              "      <td>2164</td>\n",
              "      <td>119.685767</td>\n",
              "    </tr>\n",
              "  </tbody>\n",
              "</table>\n",
              "</div>"
            ],
            "text/plain": [
              "     season      batsman  balls  strike_rate\n",
              "42       11    AM Rahane   3215   119.751166\n",
              "53       10    AT Rayudu   2681   124.058187\n",
              "72       11  BB McCullum   2272   127.332746\n",
              "92       11     CH Gayle   3131   145.640370\n",
              "112      10    DA Warner   3398   139.523249\n",
              "118      11     DJ Bravo   1193   125.565801\n",
              "135      10  DS Kulkarni    111    90.990991\n",
              "147      11    G Gambhir   3524   119.835414\n",
              "213      10   KA Pollard   1964   141.751527\n",
              "262      10      M Vijay   2164   119.685767"
            ]
          },
          "metadata": {
            "tags": []
          },
          "execution_count": 118
        }
      ]
    },
    {
      "cell_type": "code",
      "metadata": {
        "colab": {
          "base_uri": "https://localhost:8080/",
          "height": 461
        },
        "id": "t-YN49oDGSks",
        "outputId": "14067196-7df2-4bf1-cf04-7dfd18bd91ca"
      },
      "source": [
        "plt.figure(figsize =(15,6))\n",
        "sns.barplot(x='batsman',y='strike_rate',data = highest_strike_rate.head(10),hue ='season')\n",
        "plt.title(\"Highest strike rates in IPL\",fontsize=20,fontweight=\"bold\")\n",
        "plt.xlabel(\"Player\",size = 25)\n",
        "plt.ylabel(\"Strike Rate\",size = 25)\n",
        "plt.xticks(size = 14)\n",
        "plt.yticks(size = 14)\n"
      ],
      "execution_count": null,
      "outputs": [
        {
          "output_type": "execute_result",
          "data": {
            "text/plain": [
              "(array([  0.,  20.,  40.,  60.,  80., 100., 120., 140., 160.]),\n",
              " <a list of 9 Text major ticklabel objects>)"
            ]
          },
          "metadata": {
            "tags": []
          },
          "execution_count": 119
        },
        {
          "output_type": "display_data",
          "data": {
            "image/png": "[encoded data removed]",
            "text/plain": [
              "<Figure size 1080x432 with 1 Axes>"
            ]
          },
          "metadata": {
            "tags": [],
            "needs_background": "light"
          }
        }
      ]
    },
    {
      "cell_type": "code",
      "metadata": {
        "id": "-L--z95TI0ZM"
      },
      "source": [
        "#Strike_rate = balls bowled by wickets  taken\n",
        "balls_bowled = pd.DataFrame(merge.groupby('bowler')['ball'].count()) \n",
        "wickets_taken = pd.DataFrame(merge[merge['dismissal_kind'] != 'no dismissal'].groupby('bowler')['dismissal_kind'].count())\n",
        "seasons_played = pd.DataFrame(merge.groupby('bowler')['season'].nunique()) \n",
        "\n",
        "bowler_strike_rate = pd.DataFrame({'balls':balls_bowled['ball'],\n",
        "                                    'wickets':wickets_taken['dismissal_kind'],\n",
        "                                    'season':seasons_played['season']})\n",
        "bowler_strike_rate.reset_index(inplace = True)\n"
      ],
      "execution_count": null,
      "outputs": []
    },
    {
      "cell_type": "code",
      "metadata": {
        "colab": {
          "base_uri": "https://localhost:8080/",
          "height": 145
        },
        "id": "mOlzYwbiI6zj",
        "outputId": "b7079422-3bdc-432a-b586-2bc38b7c43ee"
      },
      "source": [
        "bowler_strike_rate['strike_rate']= bowler_strike_rate['balls']/bowler_strike_rate['wickets']\n",
        "def highlight_cols(s):\n",
        "  color = 'peach'\n",
        "  return 'background-color: %s' % color\n",
        "#Strike rate for bowlers who have taken more than 50 wickets\n",
        "best_bowling_strike_rate= bowler_strike_rate[bowler_strike_rate['wickets'] > 50].sort_values(by ='strike_rate')\n",
        "best_bowling_strike_rate.head().style.applymap(highlight_cols,subset = pd.IndexSlice[:,['bowler','wickets','season','strike_rate']])"
      ],
      "execution_count": null,
      "outputs": [
        {
          "output_type": "execute_result",
          "data": {
            "text/html": [
              "<style  type=\"text/css\" >\n",
              "#T_c9718d16_99e5_11eb_89b7_0242ac1c0002row0_col0,#T_c9718d16_99e5_11eb_89b7_0242ac1c0002row0_col2,#T_c9718d16_99e5_11eb_89b7_0242ac1c0002row0_col3,#T_c9718d16_99e5_11eb_89b7_0242ac1c0002row0_col4,#T_c9718d16_99e5_11eb_89b7_0242ac1c0002row1_col0,#T_c9718d16_99e5_11eb_89b7_0242ac1c0002row1_col2,#T_c9718d16_99e5_11eb_89b7_0242ac1c0002row1_col3,#T_c9718d16_99e5_11eb_89b7_0242ac1c0002row1_col4,#T_c9718d16_99e5_11eb_89b7_0242ac1c0002row2_col0,#T_c9718d16_99e5_11eb_89b7_0242ac1c0002row2_col2,#T_c9718d16_99e5_11eb_89b7_0242ac1c0002row2_col3,#T_c9718d16_99e5_11eb_89b7_0242ac1c0002row2_col4,#T_c9718d16_99e5_11eb_89b7_0242ac1c0002row3_col0,#T_c9718d16_99e5_11eb_89b7_0242ac1c0002row3_col2,#T_c9718d16_99e5_11eb_89b7_0242ac1c0002row3_col3,#T_c9718d16_99e5_11eb_89b7_0242ac1c0002row3_col4,#T_c9718d16_99e5_11eb_89b7_0242ac1c0002row4_col0,#T_c9718d16_99e5_11eb_89b7_0242ac1c0002row4_col2,#T_c9718d16_99e5_11eb_89b7_0242ac1c0002row4_col3,#T_c9718d16_99e5_11eb_89b7_0242ac1c0002row4_col4{\n",
              "            background-color:  peach;\n",
              "        }</style><table id=\"T_c9718d16_99e5_11eb_89b7_0242ac1c0002\" ><thead>    <tr>        <th class=\"blank level0\" ></th>        <th class=\"col_heading level0 col0\" >bowler</th>        <th class=\"col_heading level0 col1\" >balls</th>        <th class=\"col_heading level0 col2\" >wickets</th>        <th class=\"col_heading level0 col3\" >season</th>        <th class=\"col_heading level0 col4\" >strike_rate</th>    </tr></thead><tbody>\n",
              "                <tr>\n",
              "                        <th id=\"T_c9718d16_99e5_11eb_89b7_0242ac1c0002level0_row0\" class=\"row_heading level0 row0\" >134</th>\n",
              "                        <td id=\"T_c9718d16_99e5_11eb_89b7_0242ac1c0002row0_col0\" class=\"data row0 col0\" >Imran Tahir</td>\n",
              "                        <td id=\"T_c9718d16_99e5_11eb_89b7_0242ac1c0002row0_col1\" class=\"data row0 col1\" >1249</td>\n",
              "                        <td id=\"T_c9718d16_99e5_11eb_89b7_0242ac1c0002row0_col2\" class=\"data row0 col2\" >82</td>\n",
              "                        <td id=\"T_c9718d16_99e5_11eb_89b7_0242ac1c0002row0_col3\" class=\"data row0 col3\" >6</td>\n",
              "                        <td id=\"T_c9718d16_99e5_11eb_89b7_0242ac1c0002row0_col4\" class=\"data row0 col4\" >15.231707</td>\n",
              "            </tr>\n",
              "            <tr>\n",
              "                        <th id=\"T_c9718d16_99e5_11eb_89b7_0242ac1c0002level0_row1\" class=\"row_heading level0 row1\" >340</th>\n",
              "                        <td id=\"T_c9718d16_99e5_11eb_89b7_0242ac1c0002row1_col0\" class=\"data row1 col0\" >SL Malinga</td>\n",
              "                        <td id=\"T_c9718d16_99e5_11eb_89b7_0242ac1c0002row1_col1\" class=\"data row1 col1\" >2974</td>\n",
              "                        <td id=\"T_c9718d16_99e5_11eb_89b7_0242ac1c0002row1_col2\" class=\"data row1 col2\" >188</td>\n",
              "                        <td id=\"T_c9718d16_99e5_11eb_89b7_0242ac1c0002row1_col3\" class=\"data row1 col3\" >9</td>\n",
              "                        <td id=\"T_c9718d16_99e5_11eb_89b7_0242ac1c0002row1_col4\" class=\"data row1 col4\" >15.819149</td>\n",
              "            </tr>\n",
              "            <tr>\n",
              "                        <th id=\"T_c9718d16_99e5_11eb_89b7_0242ac1c0002level0_row2\" class=\"row_heading level0 row2\" >93</th>\n",
              "                        <td id=\"T_c9718d16_99e5_11eb_89b7_0242ac1c0002row2_col0\" class=\"data row2 col0\" >DJ Bravo</td>\n",
              "                        <td id=\"T_c9718d16_99e5_11eb_89b7_0242ac1c0002row2_col1\" class=\"data row2 col1\" >2711</td>\n",
              "                        <td id=\"T_c9718d16_99e5_11eb_89b7_0242ac1c0002row2_col2\" class=\"data row2 col2\" >168</td>\n",
              "                        <td id=\"T_c9718d16_99e5_11eb_89b7_0242ac1c0002row2_col3\" class=\"data row2 col3\" >10</td>\n",
              "                        <td id=\"T_c9718d16_99e5_11eb_89b7_0242ac1c0002row2_col4\" class=\"data row2 col4\" >16.136905</td>\n",
              "            </tr>\n",
              "            <tr>\n",
              "                        <th id=\"T_c9718d16_99e5_11eb_89b7_0242ac1c0002level0_row3\" class=\"row_heading level0 row3\" >9</th>\n",
              "                        <td id=\"T_c9718d16_99e5_11eb_89b7_0242ac1c0002row3_col0\" class=\"data row3 col0\" >A Nehra</td>\n",
              "                        <td id=\"T_c9718d16_99e5_11eb_89b7_0242ac1c0002row3_col1\" class=\"data row3 col1\" >1974</td>\n",
              "                        <td id=\"T_c9718d16_99e5_11eb_89b7_0242ac1c0002row3_col2\" class=\"data row3 col2\" >121</td>\n",
              "                        <td id=\"T_c9718d16_99e5_11eb_89b7_0242ac1c0002row3_col3\" class=\"data row3 col3\" >9</td>\n",
              "                        <td id=\"T_c9718d16_99e5_11eb_89b7_0242ac1c0002row3_col4\" class=\"data row3 col4\" >16.314050</td>\n",
              "            </tr>\n",
              "            <tr>\n",
              "                        <th id=\"T_c9718d16_99e5_11eb_89b7_0242ac1c0002level0_row4\" class=\"row_heading level0 row4\" >225</th>\n",
              "                        <td id=\"T_c9718d16_99e5_11eb_89b7_0242ac1c0002row4_col0\" class=\"data row4 col0\" >MM Patel</td>\n",
              "                        <td id=\"T_c9718d16_99e5_11eb_89b7_0242ac1c0002row4_col1\" class=\"data row4 col1\" >1382</td>\n",
              "                        <td id=\"T_c9718d16_99e5_11eb_89b7_0242ac1c0002row4_col2\" class=\"data row4 col2\" >82</td>\n",
              "                        <td id=\"T_c9718d16_99e5_11eb_89b7_0242ac1c0002row4_col3\" class=\"data row4 col3\" >7</td>\n",
              "                        <td id=\"T_c9718d16_99e5_11eb_89b7_0242ac1c0002row4_col4\" class=\"data row4 col4\" >16.853659</td>\n",
              "            </tr>\n",
              "    </tbody></table>"
            ],
            "text/plain": [
              "<pandas.io.formats.style.Styler at 0x7f32d0b42ed0>"
            ]
          },
          "metadata": {
            "tags": []
          },
          "execution_count": 130
        }
      ]
    },
    {
      "cell_type": "markdown",
      "metadata": {
        "id": "qU6Lzju0SIrn"
      },
      "source": [
        "**Q1 As a sport analysts.The most successful teams,players & factors contributing win or loss of a team**\n",
        "\n",
        "1.Mumbai Indians is the most successful team in IL and has wn the most number of matches.\n",
        "\n",
        "2.Chris Gayle has won the maximum number of player of the match title.\n",
        "\n",
        "3.There were more matches won by chasing the total (419) matches than detending(350) matches.\n",
        "\n",
        "4.If a team wins a toss choose to field firstt as it has highest porobability of winning.\n"
      ]
    },
    {
      "cell_type": "markdown",
      "metadata": {
        "id": "ImC8VmlJS9kW"
      },
      "source": [
        "**Q2 Teams or Players a company should endorse for its products**\n",
        "\n",
        "1.If the franchise is looking fr a consistant between who needs to score good amount of runs then go for V Kohi,S Raina,Rohit Sharma,D Warner,etc.\n",
        "\n",
        "2.If the franchise is looking good for a game chaging between then go for Chris Gaye,R Sharma ,M S Dhoni.\n",
        "\n",
        "3.If the franchise is looking good for a batsman between then go for Chris Gaye,R Sharma ,M S Dhoni.\n",
        "\n",
        "4.If the franchise needs best finisher then go for Chris Gaye,R Sharma ,M S Dhoni, SR Watson,BB McCullum.\n",
        "5.If the franchise needs an experienced bowler then go for Mallinga,D J Bravo,Harbhajan Singh."
      ]
    },
    {
      "cell_type": "markdown",
      "metadata": {
        "id": "HwBhxUzXUnjr"
      },
      "source": [
        "**Task Completed**\n",
        "**Thank You**"
      ]
    }
  ]
}