{
  "nbformat": 4,
  "nbformat_minor": 0,
  "metadata": {
    "colab": {
      "name": "Prediction using Supervised ML .ipynb",
      "provenance": [],
      "collapsed_sections": [],
      "authorship_tag": "ABX9TyMYLlRMIXRx1Eb5jr+oH1TI",
      "include_colab_link": true
    },
    "kernelspec": {
      "name": "python3",
      "display_name": "Python 3"
    },
    "language_info": {
      "name": "python"
    }
  },
  "cells": [
    {
      "cell_type": "markdown",
      "metadata": {
        "id": "view-in-github",
        "colab_type": "text"
      },
      "source": [
        "<a href=\"https://colab.research.google.com/github/sufipathan/data_science/blob/main/Prediction_using_Supervised_ML_.ipynb\" target=\"_parent\"><img src=\"https://colab.research.google.com/assets/colab-badge.svg\" alt=\"Open In Colab\"/></a>"
      ]
    },
    {
      "cell_type": "markdown",
      "metadata": {
        "id": "-UX0ukH5JgGW"
      },
      "source": [
        "**Author: SUFI PATHAN**"
      ]
    },
    {
      "cell_type": "markdown",
      "metadata": {
        "id": "8uhRncwfWZm8"
      },
      "source": [
        "**Task 1 Prediction using Supervised ML**"
      ]
    },
    {
      "cell_type": "markdown",
      "metadata": {
        "id": "9ZBVxl_RK5FP"
      },
      "source": [
        "# Linear Regression with Python Sckit Learn \n",
        "We will start with simple linear regression involving two variables.\n",
        "\n",
        "Simple Linear Regression\n",
        "In this regression task we will pedict the perccentage of marks that a student is expected to score based on the hours they studied.This is a simple linear regression as it involves two variables."
      ]
    },
    {
      "cell_type": "code",
      "metadata": {
        "id": "nAJ7jPk0LzbJ"
      },
      "source": [
        "#import libraries"
      ],
      "execution_count": null,
      "outputs": []
    },
    {
      "cell_type": "code",
      "metadata": {
        "id": "PVxvTiY2L5EJ"
      },
      "source": [
        "import pandas as pd\n",
        "import numpy as np\n",
        "import matplotlib.pyplot as plt\n",
        "%matplotlib inline"
      ],
      "execution_count": null,
      "outputs": []
    },
    {
      "cell_type": "code",
      "metadata": {
        "id": "F-fS8OibMUTA"
      },
      "source": [
        "url='http://bit.ly/w-data'\n",
        "data = pd.read_csv(url)"
      ],
      "execution_count": null,
      "outputs": []
    },
    {
      "cell_type": "code",
      "metadata": {
        "colab": {
          "base_uri": "https://localhost:8080/",
          "height": 359
        },
        "id": "lhtMh_RpMi78",
        "outputId": "1e304cd7-f67f-4a55-939c-02fbe426199b"
      },
      "source": [
        "data.head(10)"
      ],
      "execution_count": null,
      "outputs": [
        {
          "output_type": "execute_result",
          "data": {
            "text/html": [
              "<div>\n",
              "<style scoped>\n",
              "    .dataframe tbody tr th:only-of-type {\n",
              "        vertical-align: middle;\n",
              "    }\n",
              "\n",
              "    .dataframe tbody tr th {\n",
              "        vertical-align: top;\n",
              "    }\n",
              "\n",
              "    .dataframe thead th {\n",
              "        text-align: right;\n",
              "    }\n",
              "</style>\n",
              "<table border=\"1\" class=\"dataframe\">\n",
              "  <thead>\n",
              "    <tr style=\"text-align: right;\">\n",
              "      <th></th>\n",
              "      <th>Hours</th>\n",
              "      <th>Scores</th>\n",
              "    </tr>\n",
              "  </thead>\n",
              "  <tbody>\n",
              "    <tr>\n",
              "      <th>0</th>\n",
              "      <td>2.5</td>\n",
              "      <td>21</td>\n",
              "    </tr>\n",
              "    <tr>\n",
              "      <th>1</th>\n",
              "      <td>5.1</td>\n",
              "      <td>47</td>\n",
              "    </tr>\n",
              "    <tr>\n",
              "      <th>2</th>\n",
              "      <td>3.2</td>\n",
              "      <td>27</td>\n",
              "    </tr>\n",
              "    <tr>\n",
              "      <th>3</th>\n",
              "      <td>8.5</td>\n",
              "      <td>75</td>\n",
              "    </tr>\n",
              "    <tr>\n",
              "      <th>4</th>\n",
              "      <td>3.5</td>\n",
              "      <td>30</td>\n",
              "    </tr>\n",
              "    <tr>\n",
              "      <th>5</th>\n",
              "      <td>1.5</td>\n",
              "      <td>20</td>\n",
              "    </tr>\n",
              "    <tr>\n",
              "      <th>6</th>\n",
              "      <td>9.2</td>\n",
              "      <td>88</td>\n",
              "    </tr>\n",
              "    <tr>\n",
              "      <th>7</th>\n",
              "      <td>5.5</td>\n",
              "      <td>60</td>\n",
              "    </tr>\n",
              "    <tr>\n",
              "      <th>8</th>\n",
              "      <td>8.3</td>\n",
              "      <td>81</td>\n",
              "    </tr>\n",
              "    <tr>\n",
              "      <th>9</th>\n",
              "      <td>2.7</td>\n",
              "      <td>25</td>\n",
              "    </tr>\n",
              "  </tbody>\n",
              "</table>\n",
              "</div>"
            ],
            "text/plain": [
              "   Hours  Scores\n",
              "0    2.5      21\n",
              "1    5.1      47\n",
              "2    3.2      27\n",
              "3    8.5      75\n",
              "4    3.5      30\n",
              "5    1.5      20\n",
              "6    9.2      88\n",
              "7    5.5      60\n",
              "8    8.3      81\n",
              "9    2.7      25"
            ]
          },
          "metadata": {
            "tags": []
          },
          "execution_count": 5
        }
      ]
    },
    {
      "cell_type": "markdown",
      "metadata": {
        "id": "wOr3EPqrMwE-"
      },
      "source": [
        "Let's plot our data points on 2-D graph to eyeball our dataset and see if we can manually find any relationship between the  data.We can create the plot with the following script."
      ]
    },
    {
      "cell_type": "code",
      "metadata": {
        "colab": {
          "base_uri": "https://localhost:8080/",
          "height": 295
        },
        "id": "hOrzzSabNDvk",
        "outputId": "328d1c4e-751a-4c88-b160-86ca5cfb5984"
      },
      "source": [
        "data.plot(x='Hours', y='Scores', style='o')    \n",
        "plt.title('Hours vs Percentage')    \n",
        "plt.xlabel('The Hours Studied')    \n",
        "plt.ylabel('The Percentage Score')    \n",
        "plt.show()  "
      ],
      "execution_count": null,
      "outputs": [
        {
          "output_type": "display_data",
          "data": {
            "image/png": "[encoded data removed]",
            "text/plain": [
              "<Figure size 432x288 with 1 Axes>"
            ]
          },
          "metadata": {
            "tags": [],
            "needs_background": "light"
          }
        }
      ]
    },
    {
      "cell_type": "markdown",
      "metadata": {
        "id": "Rz4uJCqBNY-O"
      },
      "source": [
        "From the above,we can clearly see that there is a positive linear relation between the number of hours studied and percentage of scores.\n",
        "Preparing the data.The next step is to divide the data into \"attributes\"(inputs) and \"labels\"(outputs)\n"
      ]
    },
    {
      "cell_type": "code",
      "metadata": {
        "id": "P7becMucN3ck"
      },
      "source": [
        "X = data.iloc[:, :-1].values\n",
        "y = data.iloc[:, 1].values"
      ],
      "execution_count": null,
      "outputs": []
    },
    {
      "cell_type": "markdown",
      "metadata": {
        "id": "AtSJW4MwOXll"
      },
      "source": [
        "Now that we have our attributes and labels,the next way is to split this data into training and test sets.We'll do this by using Sckit-Learn'sbuilit in train_test_split()method."
      ]
    },
    {
      "cell_type": "code",
      "metadata": {
        "id": "24-2Kpv6OuNH"
      },
      "source": [
        "from sklearn.model_selection import train_test_split\n",
        "X_train,X_test,y_train,y_test = train_test_split(X,y, test_size = 0.2 , random_state = 0)"
      ],
      "execution_count": null,
      "outputs": []
    },
    {
      "cell_type": "markdown",
      "metadata": {
        "id": "FMYIp4bqPKr5"
      },
      "source": [
        "**Training the Algorithm**\n",
        "\n",
        "We have split our data into training and testing sets, and now we will train our algorithm."
      ]
    },
    {
      "cell_type": "code",
      "metadata": {
        "id": "Dn50ZwXNPZmT"
      },
      "source": [
        "from sklearn.linear_model import LinearRegression"
      ],
      "execution_count": null,
      "outputs": []
    },
    {
      "cell_type": "code",
      "metadata": {
        "colab": {
          "base_uri": "https://localhost:8080/"
        },
        "id": "xrFd1w3INyxC",
        "outputId": "51fb9670-86f8-41ce-cce1-fe0d76d17df3"
      },
      "source": [
        "Regressor1 = LinearRegression()\n",
        "Regressor1.fit(X,y)\n",
        "print(\"Training_model\")"
      ],
      "execution_count": null,
      "outputs": [
        {
          "output_type": "stream",
          "text": [
            "Training_model\n"
          ],
          "name": "stdout"
        }
      ]
    },
    {
      "cell_type": "code",
      "metadata": {
        "id": "sWmgHzeVP4DP"
      },
      "source": [
        "# Plotting the regresssion line\n",
        "line= Regressor1.coef_*X+Regressor1.intercept_"
      ],
      "execution_count": null,
      "outputs": []
    },
    {
      "cell_type": "code",
      "metadata": {
        "colab": {
          "base_uri": "https://localhost:8080/",
          "height": 265
        },
        "id": "e2m3Q6AQQK96",
        "outputId": "c6c31958-ad8c-401d-91cf-9ebbcd406c10"
      },
      "source": [
        "# Plotting for the test\n",
        "plt.scatter(X,y)\n",
        "plt.plot(X,line)\n",
        "plt.show()"
      ],
      "execution_count": null,
      "outputs": [
        {
          "output_type": "display_data",
          "data": {
            "image/png": "[encoded data removed]",
            "text/plain": [
              "<Figure size 432x288 with 1 Axes>"
            ]
          },
          "metadata": {
            "tags": [],
            "needs_background": "light"
          }
        }
      ]
    },
    {
      "cell_type": "markdown",
      "metadata": {
        "id": "y86E9yTuQ1B2"
      },
      "source": [
        "**Predictions**"
      ]
    },
    {
      "cell_type": "code",
      "metadata": {
        "colab": {
          "base_uri": "https://localhost:8080/"
        },
        "id": "LwPnQvRWQ6wr",
        "outputId": "88289339-bb4f-4566-f777-d92b6ba6b7c0"
      },
      "source": [
        "print(X_test) # Testing data\n",
        "y_pred = Regressor1.predict(X_test)"
      ],
      "execution_count": null,
      "outputs": [
        {
          "output_type": "stream",
          "text": [
            "[[1.5]\n",
            " [3.2]\n",
            " [7.4]\n",
            " [2.5]\n",
            " [5.9]]\n"
          ],
          "name": "stdout"
        }
      ]
    },
    {
      "cell_type": "code",
      "metadata": {
        "colab": {
          "base_uri": "https://localhost:8080/",
          "height": 204
        },
        "id": "NEnr9nZiRI6F",
        "outputId": "f9badcb3-e5c9-4600-83b6-322cdab2d3a4"
      },
      "source": [
        "# comparing Actual Vs Predicted\n",
        "df = pd.DataFrame({'Actual':y_test,'Predicted':y_pred})\n",
        "df"
      ],
      "execution_count": null,
      "outputs": [
        {
          "output_type": "execute_result",
          "data": {
            "text/html": [
              "<div>\n",
              "<style scoped>\n",
              "    .dataframe tbody tr th:only-of-type {\n",
              "        vertical-align: middle;\n",
              "    }\n",
              "\n",
              "    .dataframe tbody tr th {\n",
              "        vertical-align: top;\n",
              "    }\n",
              "\n",
              "    .dataframe thead th {\n",
              "        text-align: right;\n",
              "    }\n",
              "</style>\n",
              "<table border=\"1\" class=\"dataframe\">\n",
              "  <thead>\n",
              "    <tr style=\"text-align: right;\">\n",
              "      <th></th>\n",
              "      <th>Actual</th>\n",
              "      <th>Predicted</th>\n",
              "    </tr>\n",
              "  </thead>\n",
              "  <tbody>\n",
              "    <tr>\n",
              "      <th>0</th>\n",
              "      <td>20</td>\n",
              "      <td>17.147378</td>\n",
              "    </tr>\n",
              "    <tr>\n",
              "      <th>1</th>\n",
              "      <td>27</td>\n",
              "      <td>33.766244</td>\n",
              "    </tr>\n",
              "    <tr>\n",
              "      <th>2</th>\n",
              "      <td>69</td>\n",
              "      <td>74.824618</td>\n",
              "    </tr>\n",
              "    <tr>\n",
              "      <th>3</th>\n",
              "      <td>30</td>\n",
              "      <td>26.923182</td>\n",
              "    </tr>\n",
              "    <tr>\n",
              "      <th>4</th>\n",
              "      <td>62</td>\n",
              "      <td>60.160913</td>\n",
              "    </tr>\n",
              "  </tbody>\n",
              "</table>\n",
              "</div>"
            ],
            "text/plain": [
              "   Actual  Predicted\n",
              "0      20  17.147378\n",
              "1      27  33.766244\n",
              "2      69  74.824618\n",
              "3      30  26.923182\n",
              "4      62  60.160913"
            ]
          },
          "metadata": {
            "tags": []
          },
          "execution_count": 18
        }
      ]
    },
    {
      "cell_type": "code",
      "metadata": {
        "colab": {
          "base_uri": "https://localhost:8080/"
        },
        "id": "MU1MI4KnRd2W",
        "outputId": "f4683b32-2ccc-44fe-814f-1bb16dde9c15"
      },
      "source": [
        "print(\"Training score\",Regressor1.score(X_train,y_train))\n",
        "print(\"Training score\",Regressor1.score(X_test,y_test))"
      ],
      "execution_count": null,
      "outputs": [
        {
          "output_type": "stream",
          "text": [
            "Training score 0.9512837351709387\n",
            "Training score 0.9491748734859172\n"
          ],
          "name": "stdout"
        }
      ]
    },
    {
      "cell_type": "code",
      "metadata": {
        "colab": {
          "base_uri": "https://localhost:8080/",
          "height": 425
        },
        "id": "icCESJsRRuwX",
        "outputId": "adff1dfd-fba9-4586-9f88-665999162efe"
      },
      "source": [
        "#Plotting the bar char to depict the  actual and predicted values\n",
        "df.plot(kind = 'bar', figsize =(7,7))\n",
        "plt.show()"
      ],
      "execution_count": null,
      "outputs": [
        {
          "output_type": "display_data",
          "data": {
            "image/png": "[encoded data removed]",
            "text/plain": [
              "<Figure size 504x504 with 1 Axes>"
            ]
          },
          "metadata": {
            "tags": [],
            "needs_background": "light"
          }
        }
      ]
    },
    {
      "cell_type": "code",
      "metadata": {
        "colab": {
          "base_uri": "https://localhost:8080/"
        },
        "id": "HjFraGCwSFg5",
        "outputId": "3285552b-c115-4030-d259-66394560794e"
      },
      "source": [
        "#predict for 9.25 hr\n",
        "hours = 9.25\n",
        "test = np.array([hours])\n",
        "test = test.reshape(-1,1)\n",
        "own_predict =  Regressor1.predict(test)\n",
        "print(\"No of hours ={}\".format(hours))\n",
        "print(\"No of Predicted Score ={}\".format(own_predict[0]))"
      ],
      "execution_count": null,
      "outputs": [
        {
          "output_type": "stream",
          "text": [
            "No of hours =9.25\n",
            "No of Predicted Score =92.9098547701573\n"
          ],
          "name": "stdout"
        }
      ]
    },
    {
      "cell_type": "markdown",
      "metadata": {
        "id": "_sUzOu1uSq04"
      },
      "source": [
        "**Evaluating Model**"
      ]
    },
    {
      "cell_type": "code",
      "metadata": {
        "colab": {
          "base_uri": "https://localhost:8080/"
        },
        "id": "WWrK7i_KStwL",
        "outputId": "d46654c0-8690-44b3-8a08-f7552503feb9"
      },
      "source": [
        "import numpy as np\n",
        "from sklearn import metrics\n",
        "print('Mean Absolute error:',metrics.mean_absolute_error(y_test,y_pred))\n",
        "print('Mean Squared error:',metrics.mean_squared_error(y_test,y_pred))\n",
        "print('Root Mean Squared error:',np.sqrt(metrics.mean_squared_error(y_test,y_pred)))\n",
        "print('Explained Variance score:',metrics.explained_variance_score(y_test,y_pred))"
      ],
      "execution_count": null,
      "outputs": [
        {
          "output_type": "stream",
          "text": [
            "Mean Absolute error: 4.071877793635605\n",
            "Mean Squared error: 20.138948129940175\n",
            "Root Mean Squared error: 4.487643939746131\n",
            "Explained Variance score: 0.9515224335188082\n"
          ],
          "name": "stdout"
        }
      ]
    },
    {
      "cell_type": "markdown",
      "metadata": {
        "id": "ElOEMl7UUDcm"
      },
      "source": [
        "Above final step is to evluate the performance of algorithm.This step is particularly important to compare how will different algorithm perform on a particular dataset."
      ]
    }
  ]
}